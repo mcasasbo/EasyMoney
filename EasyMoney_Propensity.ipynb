{
 "cells": [
  {
   "cell_type": "markdown",
   "metadata": {},
   "source": [
    "# Easy Money Purchase Propensity Model"
   ]
  },
  {
   "cell_type": "markdown",
   "metadata": {},
   "source": [
    "## 1. Imports"
   ]
  },
  {
   "cell_type": "markdown",
   "metadata": {},
   "source": [
    "### 1.1. Libraries"
   ]
  },
  {
   "cell_type": "code",
   "execution_count": 1,
   "metadata": {},
   "outputs": [],
   "source": [
    "\n",
    "import time\n",
    "import warnings\n",
    "warnings.filterwarnings(\"ignore\")\n",
    "\n",
    "import pandas as pd\n",
    "import numpy as np\n",
    "\n",
    "import sklearn\n",
    "from sklearn import set_config\n",
    "from sklearn.tree import DecisionTreeClassifier\n",
    "from sklearn.ensemble import RandomForestClassifier, GradientBoostingClassifier\n",
    "from sklearn.linear_model import LogisticRegression\n",
    "from sklearn.pipeline import Pipeline\n",
    "from sklearn.compose import ColumnTransformer\n",
    "from sklearn import metrics\n",
    "from sklearn.metrics import f1_score, accuracy_score, confusion_matrix, roc_auc_score, classification_report\n",
    "from sklearn import model_selection\n",
    "from sklearn.model_selection import train_test_split, GridSearchCV, RandomizedSearchCV, RepeatedKFold, KFold\n",
    "from imblearn.under_sampling import RandomUnderSampler\n",
    "\n",
    "import xgboost as xgb\n",
    "\n",
    "import matplotlib.pyplot as plt\n",
    "import seaborn as sns\n",
    "\n",
    "import joblib\n",
    "\n",
    "\n",
    "set_config(transform_output = 'pandas')"
   ]
  },
  {
   "cell_type": "markdown",
   "metadata": {},
   "source": [
    "### 1.2. Data"
   ]
  },
  {
   "cell_type": "markdown",
   "metadata": {},
   "source": [
    "#### 1.2.1. Preprocessing 1"
   ]
  },
  {
   "cell_type": "code",
   "execution_count": 2,
   "metadata": {},
   "outputs": [],
   "source": [
    "em_propensity_dc = pd.read_pickle('C:/Users/Usuario/Desktop/Proyects/Easy Money/EasyMoney_/pickles/em_propensity_dc')\n",
    "em_propensity_emc = pd.read_pickle('C:/Users/Usuario/Desktop/Proyects/Easy Money/EasyMoney_/pickles/em_propensity_emc')\n",
    "em_propensity_ltd = pd.read_pickle('C:/Users/Usuario/Desktop/Proyects/Easy Money/EasyMoney_/pickles/em_propensity_ltd')\n",
    "em_propensity_pp = pd.read_pickle('C:/Users/Usuario/Desktop/Proyects/Easy Money/EasyMoney_/pickles/em_propensity_pp')"
   ]
  },
  {
   "cell_type": "markdown",
   "metadata": {},
   "source": [
    "#### 1.2.2. Preprocessing 2"
   ]
  },
  {
   "cell_type": "code",
   "execution_count": 3,
   "metadata": {},
   "outputs": [],
   "source": [
    "em_propensity_dc_ = pd.read_pickle('C:/Users/Usuario/Desktop/Proyects/Easy Money/EasyMoney_/pickles/em_propensity_dc_')\n",
    "em_propensity_emc_ = pd.read_pickle('C:/Users/Usuario/Desktop/Proyects/Easy Money/EasyMoney_/pickles/em_propensity_emc_')\n",
    "em_propensity_ltd_ = pd.read_pickle('C:/Users/Usuario/Desktop/Proyects/Easy Money/EasyMoney_/pickles/em_propensity_ltd_')\n",
    "em_propensity_pp_ = pd.read_pickle('C:/Users/Usuario/Desktop/Proyects/Easy Money/EasyMoney_/pickles/em_propensity_pp_')"
   ]
  },
  {
   "cell_type": "markdown",
   "metadata": {},
   "source": [
    "### 1.3. Custom functions"
   ]
  },
  {
   "cell_type": "code",
   "execution_count": 4,
   "metadata": {},
   "outputs": [],
   "source": [
    "# Validation strategy\n",
    "\n",
    "def validation_strategy_cl(dataframe, TARGET):\n",
    "    X_train_, X_val, y_train_, y_val = train_test_split(dataframe.drop(TARGET, axis=1), dataframe[TARGET], test_size=0.20, random_state=42)\n",
    "    X_train, X_test, y_train, y_test = train_test_split(X_train_, y_train_, test_size = 0.20, random_state = 52)\n",
    "    return X_train, X_test, y_train, y_test, X_val, y_val\n",
    "\n",
    "# Predictions\n",
    "\n",
    "def predictions_cl(X_test, y_test, X_val, y_val, Algorithm, target):\n",
    "    y_test_pred = pd.DataFrame(Algorithm.predict(X_test), index=y_test.index, columns=[target])\n",
    "    acc_test = Algorithm.score(X_test, y_test)\n",
    "    acc_val = Algorithm.score(X_val, y_val)\n",
    "    f1 = f1_score(y_test, y_test_pred)\n",
    "    y_proba = Algorithm.predict_proba(X_test)[:, 1]\n",
    "    auc = roc_auc_score(y_test, y_proba)\n",
    "    return print(f'Accuracy test: {round(acc_test, 3)}, Accuracy validation: {round(acc_val, 3)}, F1 score: {round(f1, 3)}, AUC: {round(auc, 3)}')\n",
    "\n",
    "def xgb_predictions_cl(X_test, y_test, X_val, y_val, Algorithm, target):\n",
    "    # Convertir conjuntos de datos a DMatrix\n",
    "    dtest = xgb.DMatrix(X_test)\n",
    "    dval = xgb.DMatrix(X_val)\n",
    "    \n",
    "    # Hacer predicciones\n",
    "    y_test_pred = Algorithm.predict(dtest)\n",
    "    \n",
    "    # Calcular métricas\n",
    "    f1 = f1_score(y_test, y_test_pred)\n",
    "    y_proba = Algorithm.predict(dtest)\n",
    "    auc = roc_auc_score(y_test, y_proba)\n",
    "    \n",
    "    # Mostrar resultados\n",
    "    print(f'F1 score: {round(f1, 3)}, AUC: {round(auc, 3)}')\n",
    "\n",
    "# Painting predictions\n",
    "\n",
    "def paint_confusion_matrix(X_test, y_test, algorithm):\n",
    "    y_pred = algorithm.predict(X_test)\n",
    "    cm = confusion_matrix(y_test, y_pred)\n",
    "    plt.figure(figsize=(8, 6))\n",
    "    sns.heatmap(cm, annot=True, cmap='Blues', fmt='g', cbar=False)\n",
    "    plt.xlabel('Predicted labels')\n",
    "    plt.ylabel('True labels')\n",
    "    plt.title('Confusion Matrix')\n",
    "    return plt.show()\n",
    "\n",
    "def paint_roc_curve(X_test, y_test, algorithm):\n",
    "    y_proba = algorithm.predict_proba(X_test)[:, 1]\n",
    "    fpr, tpr, _ = metrics.roc_curve(y_test, y_proba)\n",
    "\n",
    "    plt.clf()\n",
    "    plt.plot(fpr, tpr)\n",
    "    plt.plot([0, 1], [0, 1], color='gray', linestyle='--')\n",
    "    plt.xlabel('FPR')\n",
    "    plt.ylabel('TPR')\n",
    "    plt.title('ROC curve')\n",
    "    plt.show()\n",
    "\n",
    "def models_comparison_roc_curve(X_train, y_train, X_test, y_test, model_1, model_2, model_3):\n",
    "\n",
    "    models = [ \n",
    "        (model_1),\n",
    "        (model_2),\n",
    "        (model_3)\n",
    "    ]\n",
    "    plt.clf()\n",
    "    for model in models:\n",
    "        model_name = model[0]\n",
    "        model_instance = model[1]\n",
    "        model_instance.fit(X_train, np.ravel(y_train))\n",
    "        predictions = model_instance.predict_proba(X_test)[:,1]\n",
    "        auc_score = metrics.roc_auc_score(y_test, predictions)\n",
    "        print('ROC AUC Score for {}: {}'.format(model_name, round(auc_score, 3)))\n",
    "        fpr, tpr, _ = metrics.roc_curve(y_test, predictions)\n",
    "        plt.plot(fpr, tpr, label='ROC Curve for {} - Area: {:2f}'.format(model_name, auc_score))\n",
    "    plt.plot([0, 1], [0, 1], color='gray', linestyle='--')\n",
    "    plt.xlabel('FPR')\n",
    "    plt.ylabel('TPR')\n",
    "    plt.legend(loc=\"lower right\")\n",
    "    plt.title('ROC curve')\n",
    "    return plt.show()\n"
   ]
  },
  {
   "cell_type": "markdown",
   "metadata": {},
   "source": [
    "## 2. Modeling"
   ]
  },
  {
   "cell_type": "markdown",
   "metadata": {},
   "source": [
    "### 2.1. Targets"
   ]
  },
  {
   "cell_type": "code",
   "execution_count": 5,
   "metadata": {},
   "outputs": [],
   "source": [
    "TARGET_DC = 'debit_card'\n",
    "TARGET_PP = 'pension_plan'\n",
    "TARGET_EMC = 'emc_account'\n",
    "TARGET_LTD = 'long_term_deposit'"
   ]
  },
  {
   "cell_type": "code",
   "execution_count": 6,
   "metadata": {},
   "outputs": [
    {
     "data": {
      "text/plain": [
       "debit_card\n",
       "0    0.846679\n",
       "1    0.153321\n",
       "Name: proportion, dtype: float64"
      ]
     },
     "execution_count": 6,
     "metadata": {},
     "output_type": "execute_result"
    }
   ],
   "source": [
    "#em_propensity_ltd[TARGET_LTD].value_counts(normalize = True)\n",
    "em_propensity_dc[TARGET_DC].value_counts(normalize = True)\n",
    "#em_propensity_emc[TARGET_EMC].value_counts(normalize = True)\n",
    "#em_propensity_pp[TARGET_PP].value_counts(normalize = True)"
   ]
  },
  {
   "cell_type": "markdown",
   "metadata": {},
   "source": [
    "### 2.2. Validation strategy"
   ]
  },
  {
   "cell_type": "code",
   "execution_count": 7,
   "metadata": {},
   "outputs": [],
   "source": [
    "X_train, X_test, y_train, y_test, X_val, y_val = validation_strategy_cl(em_propensity_dc, TARGET_DC)"
   ]
  },
  {
   "cell_type": "code",
   "execution_count": 8,
   "metadata": {},
   "outputs": [
    {
     "name": "stdout",
     "output_type": "stream",
     "text": [
      "Xtrain: (391569, 50), Xtest: (97893, 50), Xval: (122366, 50)\n"
     ]
    }
   ],
   "source": [
    "print(f'Xtrain: {X_train.shape}, Xtest: {X_test.shape}, Xval: {X_val.shape}')"
   ]
  },
  {
   "cell_type": "code",
   "execution_count": 9,
   "metadata": {},
   "outputs": [
    {
     "name": "stdout",
     "output_type": "stream",
     "text": [
      "ytrain: (391569,), ytest: (97893,), yval: (122366,)\n"
     ]
    }
   ],
   "source": [
    "print(f'ytrain: {y_train.shape}, ytest: {y_test.shape}, yval: {y_val.shape}')"
   ]
  },
  {
   "cell_type": "markdown",
   "metadata": {},
   "source": [
    "### 2.3. Testing algorithms"
   ]
  },
  {
   "cell_type": "markdown",
   "metadata": {},
   "source": [
    "#### 2.3.1. Decision Tree Clasifier"
   ]
  },
  {
   "cell_type": "markdown",
   "metadata": {},
   "source": [
    "##### 2.3.1.1. RandomizedSearchCV"
   ]
  },
  {
   "cell_type": "code",
   "execution_count": 10,
   "metadata": {},
   "outputs": [
    {
     "data": {
      "text/plain": [
       "'\\nparam_grid = {\\n    \\'max_depth\\': np.arange(2, 15),\\n    \\'min_samples_leaf\\': [50, 100, 250, 400, 550, 700, 850, 1000, 1100, 2000]\\n}\\n\\ndt = DecisionTreeClassifier()\\ncv = RepeatedKFold()\\n\\nst = time.time()\\n\\nrand_cv = RandomizedSearchCV(\\n    estimator = dt,\\n    param_distributions = param_grid,\\n    cv = cv,\\n    return_train_score = True,\\n    verbose = False,\\n    n_jobs = -1\\n)\\n\\nrand_cv.fit(X_train, y_train)\\nscore_rand = rand_cv.score(X_train, y_train)\\n\\net = time.time()\\n\\ntt_rand = round((et - st)/60, 2)\\nprint(\"Total time took: \", str(tt_rand), \" minutes!\")\\n\\n'"
      ]
     },
     "execution_count": 10,
     "metadata": {},
     "output_type": "execute_result"
    }
   ],
   "source": [
    "'''\n",
    "param_grid = {\n",
    "    'max_depth': np.arange(2, 15),\n",
    "    'min_samples_leaf': [50, 100, 250, 400, 550, 700, 850, 1000, 1100, 2000]\n",
    "}\n",
    "\n",
    "dt = DecisionTreeClassifier()\n",
    "cv = RepeatedKFold()\n",
    "\n",
    "st = time.time()\n",
    "\n",
    "rand_cv = RandomizedSearchCV(\n",
    "    estimator = dt,\n",
    "    param_distributions = param_grid,\n",
    "    cv = cv,\n",
    "    return_train_score = True,\n",
    "    verbose = False,\n",
    "    n_jobs = -1\n",
    ")\n",
    "\n",
    "rand_cv.fit(X_train, y_train)\n",
    "score_rand = rand_cv.score(X_train, y_train)\n",
    "\n",
    "et = time.time()\n",
    "\n",
    "tt_rand = round((et - st)/60, 2)\n",
    "print(\"Total time took: \", str(tt_rand), \" minutes!\")\n",
    "\n",
    "'''"
   ]
  },
  {
   "cell_type": "code",
   "execution_count": 11,
   "metadata": {},
   "outputs": [
    {
     "data": {
      "text/plain": [
       "'\\npd.DataFrame(\\n            data = list(rand_cv.best_params_.values()) + [round(score_rand, 3)], \\n            index = list(rand_cv.best_params_.keys()) + [\"Score\"],\\n            columns = [\"RandomizedSearchCV\"]\\n        )\\n\\n'"
      ]
     },
     "execution_count": 11,
     "metadata": {},
     "output_type": "execute_result"
    }
   ],
   "source": [
    "'''\n",
    "pd.DataFrame(\n",
    "            data = list(rand_cv.best_params_.values()) + [round(score_rand, 3)], \n",
    "            index = list(rand_cv.best_params_.keys()) + [\"Score\"],\n",
    "            columns = [\"RandomizedSearchCV\"]\n",
    "        )\n",
    "\n",
    "'''"
   ]
  },
  {
   "cell_type": "code",
   "execution_count": 12,
   "metadata": {},
   "outputs": [
    {
     "data": {
      "text/plain": [
       "'\\nfinal_dt = rand_cv\\nfinal_dt.best_estimator_\\n'"
      ]
     },
     "execution_count": 12,
     "metadata": {},
     "output_type": "execute_result"
    }
   ],
   "source": [
    "'''\n",
    "final_dt = rand_cv\n",
    "final_dt.best_estimator_\n",
    "'''"
   ]
  },
  {
   "cell_type": "markdown",
   "metadata": {},
   "source": [
    "##### 2.3.1.2. Predictions"
   ]
  },
  {
   "cell_type": "code",
   "execution_count": 13,
   "metadata": {},
   "outputs": [],
   "source": [
    "#final_dt.fit(X_train, y_train)"
   ]
  },
  {
   "cell_type": "code",
   "execution_count": 14,
   "metadata": {},
   "outputs": [
    {
     "data": {
      "text/html": [
       "<style>#sk-container-id-1 {color: black;}#sk-container-id-1 pre{padding: 0;}#sk-container-id-1 div.sk-toggleable {background-color: white;}#sk-container-id-1 label.sk-toggleable__label {cursor: pointer;display: block;width: 100%;margin-bottom: 0;padding: 0.3em;box-sizing: border-box;text-align: center;}#sk-container-id-1 label.sk-toggleable__label-arrow:before {content: \"▸\";float: left;margin-right: 0.25em;color: #696969;}#sk-container-id-1 label.sk-toggleable__label-arrow:hover:before {color: black;}#sk-container-id-1 div.sk-estimator:hover label.sk-toggleable__label-arrow:before {color: black;}#sk-container-id-1 div.sk-toggleable__content {max-height: 0;max-width: 0;overflow: hidden;text-align: left;background-color: #f0f8ff;}#sk-container-id-1 div.sk-toggleable__content pre {margin: 0.2em;color: black;border-radius: 0.25em;background-color: #f0f8ff;}#sk-container-id-1 input.sk-toggleable__control:checked~div.sk-toggleable__content {max-height: 200px;max-width: 100%;overflow: auto;}#sk-container-id-1 input.sk-toggleable__control:checked~label.sk-toggleable__label-arrow:before {content: \"▾\";}#sk-container-id-1 div.sk-estimator input.sk-toggleable__control:checked~label.sk-toggleable__label {background-color: #d4ebff;}#sk-container-id-1 div.sk-label input.sk-toggleable__control:checked~label.sk-toggleable__label {background-color: #d4ebff;}#sk-container-id-1 input.sk-hidden--visually {border: 0;clip: rect(1px 1px 1px 1px);clip: rect(1px, 1px, 1px, 1px);height: 1px;margin: -1px;overflow: hidden;padding: 0;position: absolute;width: 1px;}#sk-container-id-1 div.sk-estimator {font-family: monospace;background-color: #f0f8ff;border: 1px dotted black;border-radius: 0.25em;box-sizing: border-box;margin-bottom: 0.5em;}#sk-container-id-1 div.sk-estimator:hover {background-color: #d4ebff;}#sk-container-id-1 div.sk-parallel-item::after {content: \"\";width: 100%;border-bottom: 1px solid gray;flex-grow: 1;}#sk-container-id-1 div.sk-label:hover label.sk-toggleable__label {background-color: #d4ebff;}#sk-container-id-1 div.sk-serial::before {content: \"\";position: absolute;border-left: 1px solid gray;box-sizing: border-box;top: 0;bottom: 0;left: 50%;z-index: 0;}#sk-container-id-1 div.sk-serial {display: flex;flex-direction: column;align-items: center;background-color: white;padding-right: 0.2em;padding-left: 0.2em;position: relative;}#sk-container-id-1 div.sk-item {position: relative;z-index: 1;}#sk-container-id-1 div.sk-parallel {display: flex;align-items: stretch;justify-content: center;background-color: white;position: relative;}#sk-container-id-1 div.sk-item::before, #sk-container-id-1 div.sk-parallel-item::before {content: \"\";position: absolute;border-left: 1px solid gray;box-sizing: border-box;top: 0;bottom: 0;left: 50%;z-index: -1;}#sk-container-id-1 div.sk-parallel-item {display: flex;flex-direction: column;z-index: 1;position: relative;background-color: white;}#sk-container-id-1 div.sk-parallel-item:first-child::after {align-self: flex-end;width: 50%;}#sk-container-id-1 div.sk-parallel-item:last-child::after {align-self: flex-start;width: 50%;}#sk-container-id-1 div.sk-parallel-item:only-child::after {width: 0;}#sk-container-id-1 div.sk-dashed-wrapped {border: 1px dashed gray;margin: 0 0.4em 0.5em 0.4em;box-sizing: border-box;padding-bottom: 0.4em;background-color: white;}#sk-container-id-1 div.sk-label label {font-family: monospace;font-weight: bold;display: inline-block;line-height: 1.2em;}#sk-container-id-1 div.sk-label-container {text-align: center;}#sk-container-id-1 div.sk-container {/* jupyter's `normalize.less` sets `[hidden] { display: none; }` but bootstrap.min.css set `[hidden] { display: none !important; }` so we also need the `!important` here to be able to override the default hidden behavior on the sphinx rendered scikit-learn.org. See: https://github.com/scikit-learn/scikit-learn/issues/21755 */display: inline-block !important;position: relative;}#sk-container-id-1 div.sk-text-repr-fallback {display: none;}</style><div id=\"sk-container-id-1\" class=\"sk-top-container\"><div class=\"sk-text-repr-fallback\"><pre>DecisionTreeClassifier(max_depth=13, min_samples_leaf=100, random_state=42)</pre><b>In a Jupyter environment, please rerun this cell to show the HTML representation or trust the notebook. <br />On GitHub, the HTML representation is unable to render, please try loading this page with nbviewer.org.</b></div><div class=\"sk-container\" hidden><div class=\"sk-item\"><div class=\"sk-estimator sk-toggleable\"><input class=\"sk-toggleable__control sk-hidden--visually\" id=\"sk-estimator-id-1\" type=\"checkbox\" checked><label for=\"sk-estimator-id-1\" class=\"sk-toggleable__label sk-toggleable__label-arrow\">DecisionTreeClassifier</label><div class=\"sk-toggleable__content\"><pre>DecisionTreeClassifier(max_depth=13, min_samples_leaf=100, random_state=42)</pre></div></div></div></div></div>"
      ],
      "text/plain": [
       "DecisionTreeClassifier(max_depth=13, min_samples_leaf=100, random_state=42)"
      ]
     },
     "execution_count": 14,
     "metadata": {},
     "output_type": "execute_result"
    }
   ],
   "source": [
    "dt = DecisionTreeClassifier(max_depth=13, min_samples_leaf=100,random_state=42,)\n",
    "dt.fit(X_train, y_train)"
   ]
  },
  {
   "cell_type": "code",
   "execution_count": 15,
   "metadata": {},
   "outputs": [
    {
     "name": "stdout",
     "output_type": "stream",
     "text": [
      "Accuracy test: 0.947, Accuracy validation: 0.949, F1 score: 0.829, AUC: 0.981\n"
     ]
    }
   ],
   "source": [
    "predictions_cl(X_test, y_test, X_val, y_val, dt, TARGET_DC)"
   ]
  },
  {
   "cell_type": "code",
   "execution_count": 16,
   "metadata": {},
   "outputs": [
    {
     "data": {
      "text/html": [
       "<div>\n",
       "<style scoped>\n",
       "    .dataframe tbody tr th:only-of-type {\n",
       "        vertical-align: middle;\n",
       "    }\n",
       "\n",
       "    .dataframe tbody tr th {\n",
       "        vertical-align: top;\n",
       "    }\n",
       "\n",
       "    .dataframe thead th {\n",
       "        text-align: right;\n",
       "    }\n",
       "</style>\n",
       "<table border=\"1\" class=\"dataframe\">\n",
       "  <thead>\n",
       "    <tr style=\"text-align: right;\">\n",
       "      <th>col_0</th>\n",
       "      <th>0</th>\n",
       "      <th>1</th>\n",
       "    </tr>\n",
       "    <tr>\n",
       "      <th>debit_card</th>\n",
       "      <th></th>\n",
       "      <th></th>\n",
       "    </tr>\n",
       "  </thead>\n",
       "  <tbody>\n",
       "    <tr>\n",
       "      <th>0</th>\n",
       "      <td>80202</td>\n",
       "      <td>2584</td>\n",
       "    </tr>\n",
       "    <tr>\n",
       "      <th>1</th>\n",
       "      <td>2570</td>\n",
       "      <td>12537</td>\n",
       "    </tr>\n",
       "  </tbody>\n",
       "</table>\n",
       "</div>"
      ],
      "text/plain": [
       "col_0           0      1\n",
       "debit_card              \n",
       "0           80202   2584\n",
       "1            2570  12537"
      ]
     },
     "execution_count": 16,
     "metadata": {},
     "output_type": "execute_result"
    }
   ],
   "source": [
    "y_pred = dt.predict(X_test)\n",
    "pd.crosstab(y_test, y_pred)\n",
    "#(max_depth=10, min_samples_leaf=1000,random_state=42,)"
   ]
  },
  {
   "cell_type": "code",
   "execution_count": 19,
   "metadata": {},
   "outputs": [
    {
     "data": {
      "image/png": "[encoded data removed]",
      "text/plain": [
       "<Figure size 640x480 with 1 Axes>"
      ]
     },
     "metadata": {},
     "output_type": "display_data"
    }
   ],
   "source": [
    "paint_roc_curve(X_test, y_test, dt)"
   ]
  },
  {
   "cell_type": "markdown",
   "metadata": {},
   "source": [
    "#### 2.3.2. Random Forest"
   ]
  },
  {
   "cell_type": "markdown",
   "metadata": {},
   "source": [
    "##### 2.3.2.1. RandomizeSearchCV"
   ]
  },
  {
   "cell_type": "code",
   "execution_count": 20,
   "metadata": {},
   "outputs": [
    {
     "data": {
      "text/plain": [
       "'\\nparam_grid = {\\n    \\'max_depth\\': np.arange(2, 15),\\n    \\'n_estimators\\': [50, 100, 150, 200, 250]\\n}\\n\\nrf = RandomForestClassifier()\\ncv = KFold()\\n\\nst = time.time()\\n\\nrand_cv = RandomizedSearchCV(\\n    estimator = rf,\\n    param_distributions = param_grid,\\n    cv = cv,\\n    return_train_score = True,\\n    verbose = False,\\n    n_jobs = -1\\n)\\n\\nrand_cv.fit(X_train, y_train)\\nscore_rand = rand_cv.score(X_train, y_train)\\n\\net = time.time()\\n\\ntt_rand = round((et - st)/60, 2)\\nprint(\"Total time took: \", str(tt_rand), \" minutes!\")\\npd.DataFrame(\\n            data = list(rand_cv.best_params_.values()) + [round(score_rand, 3)], \\n            index = list(rand_cv.best_params_.keys()) + [\"Score\"],\\n            columns = [\"RandomizedSearchCV\"]\\n        )\\n'"
      ]
     },
     "execution_count": 20,
     "metadata": {},
     "output_type": "execute_result"
    }
   ],
   "source": [
    "'''\n",
    "param_grid = {\n",
    "    'max_depth': np.arange(2, 15),\n",
    "    'n_estimators': [50, 100, 150, 200, 250]\n",
    "}\n",
    "\n",
    "rf = RandomForestClassifier()\n",
    "cv = KFold()\n",
    "\n",
    "st = time.time()\n",
    "\n",
    "rand_cv = RandomizedSearchCV(\n",
    "    estimator = rf,\n",
    "    param_distributions = param_grid,\n",
    "    cv = cv,\n",
    "    return_train_score = True,\n",
    "    verbose = False,\n",
    "    n_jobs = -1\n",
    ")\n",
    "\n",
    "rand_cv.fit(X_train, y_train)\n",
    "score_rand = rand_cv.score(X_train, y_train)\n",
    "\n",
    "et = time.time()\n",
    "\n",
    "tt_rand = round((et - st)/60, 2)\n",
    "print(\"Total time took: \", str(tt_rand), \" minutes!\")\n",
    "pd.DataFrame(\n",
    "            data = list(rand_cv.best_params_.values()) + [round(score_rand, 3)], \n",
    "            index = list(rand_cv.best_params_.keys()) + [\"Score\"],\n",
    "            columns = [\"RandomizedSearchCV\"]\n",
    "        )\n",
    "'''"
   ]
  },
  {
   "cell_type": "code",
   "execution_count": 21,
   "metadata": {},
   "outputs": [],
   "source": [
    "#final_rf = rand_cv\n",
    "#final_rf.best_estimator_"
   ]
  },
  {
   "cell_type": "code",
   "execution_count": 22,
   "metadata": {},
   "outputs": [
    {
     "data": {
      "text/html": [
       "<style>#sk-container-id-2 {color: black;}#sk-container-id-2 pre{padding: 0;}#sk-container-id-2 div.sk-toggleable {background-color: white;}#sk-container-id-2 label.sk-toggleable__label {cursor: pointer;display: block;width: 100%;margin-bottom: 0;padding: 0.3em;box-sizing: border-box;text-align: center;}#sk-container-id-2 label.sk-toggleable__label-arrow:before {content: \"▸\";float: left;margin-right: 0.25em;color: #696969;}#sk-container-id-2 label.sk-toggleable__label-arrow:hover:before {color: black;}#sk-container-id-2 div.sk-estimator:hover label.sk-toggleable__label-arrow:before {color: black;}#sk-container-id-2 div.sk-toggleable__content {max-height: 0;max-width: 0;overflow: hidden;text-align: left;background-color: #f0f8ff;}#sk-container-id-2 div.sk-toggleable__content pre {margin: 0.2em;color: black;border-radius: 0.25em;background-color: #f0f8ff;}#sk-container-id-2 input.sk-toggleable__control:checked~div.sk-toggleable__content {max-height: 200px;max-width: 100%;overflow: auto;}#sk-container-id-2 input.sk-toggleable__control:checked~label.sk-toggleable__label-arrow:before {content: \"▾\";}#sk-container-id-2 div.sk-estimator input.sk-toggleable__control:checked~label.sk-toggleable__label {background-color: #d4ebff;}#sk-container-id-2 div.sk-label input.sk-toggleable__control:checked~label.sk-toggleable__label {background-color: #d4ebff;}#sk-container-id-2 input.sk-hidden--visually {border: 0;clip: rect(1px 1px 1px 1px);clip: rect(1px, 1px, 1px, 1px);height: 1px;margin: -1px;overflow: hidden;padding: 0;position: absolute;width: 1px;}#sk-container-id-2 div.sk-estimator {font-family: monospace;background-color: #f0f8ff;border: 1px dotted black;border-radius: 0.25em;box-sizing: border-box;margin-bottom: 0.5em;}#sk-container-id-2 div.sk-estimator:hover {background-color: #d4ebff;}#sk-container-id-2 div.sk-parallel-item::after {content: \"\";width: 100%;border-bottom: 1px solid gray;flex-grow: 1;}#sk-container-id-2 div.sk-label:hover label.sk-toggleable__label {background-color: #d4ebff;}#sk-container-id-2 div.sk-serial::before {content: \"\";position: absolute;border-left: 1px solid gray;box-sizing: border-box;top: 0;bottom: 0;left: 50%;z-index: 0;}#sk-container-id-2 div.sk-serial {display: flex;flex-direction: column;align-items: center;background-color: white;padding-right: 0.2em;padding-left: 0.2em;position: relative;}#sk-container-id-2 div.sk-item {position: relative;z-index: 1;}#sk-container-id-2 div.sk-parallel {display: flex;align-items: stretch;justify-content: center;background-color: white;position: relative;}#sk-container-id-2 div.sk-item::before, #sk-container-id-2 div.sk-parallel-item::before {content: \"\";position: absolute;border-left: 1px solid gray;box-sizing: border-box;top: 0;bottom: 0;left: 50%;z-index: -1;}#sk-container-id-2 div.sk-parallel-item {display: flex;flex-direction: column;z-index: 1;position: relative;background-color: white;}#sk-container-id-2 div.sk-parallel-item:first-child::after {align-self: flex-end;width: 50%;}#sk-container-id-2 div.sk-parallel-item:last-child::after {align-self: flex-start;width: 50%;}#sk-container-id-2 div.sk-parallel-item:only-child::after {width: 0;}#sk-container-id-2 div.sk-dashed-wrapped {border: 1px dashed gray;margin: 0 0.4em 0.5em 0.4em;box-sizing: border-box;padding-bottom: 0.4em;background-color: white;}#sk-container-id-2 div.sk-label label {font-family: monospace;font-weight: bold;display: inline-block;line-height: 1.2em;}#sk-container-id-2 div.sk-label-container {text-align: center;}#sk-container-id-2 div.sk-container {/* jupyter's `normalize.less` sets `[hidden] { display: none; }` but bootstrap.min.css set `[hidden] { display: none !important; }` so we also need the `!important` here to be able to override the default hidden behavior on the sphinx rendered scikit-learn.org. See: https://github.com/scikit-learn/scikit-learn/issues/21755 */display: inline-block !important;position: relative;}#sk-container-id-2 div.sk-text-repr-fallback {display: none;}</style><div id=\"sk-container-id-2\" class=\"sk-top-container\"><div class=\"sk-text-repr-fallback\"><pre>RandomForestClassifier(max_depth=10, random_state=42)</pre><b>In a Jupyter environment, please rerun this cell to show the HTML representation or trust the notebook. <br />On GitHub, the HTML representation is unable to render, please try loading this page with nbviewer.org.</b></div><div class=\"sk-container\" hidden><div class=\"sk-item\"><div class=\"sk-estimator sk-toggleable\"><input class=\"sk-toggleable__control sk-hidden--visually\" id=\"sk-estimator-id-2\" type=\"checkbox\" checked><label for=\"sk-estimator-id-2\" class=\"sk-toggleable__label sk-toggleable__label-arrow\">RandomForestClassifier</label><div class=\"sk-toggleable__content\"><pre>RandomForestClassifier(max_depth=10, random_state=42)</pre></div></div></div></div></div>"
      ],
      "text/plain": [
       "RandomForestClassifier(max_depth=10, random_state=42)"
      ]
     },
     "execution_count": 22,
     "metadata": {},
     "output_type": "execute_result"
    }
   ],
   "source": [
    "rf = RandomForestClassifier(n_estimators=100, max_depth=10, random_state=42)\n",
    "rf.fit(X_train, y_train)"
   ]
  },
  {
   "cell_type": "markdown",
   "metadata": {},
   "source": [
    "##### 2.3.2.2. Predictions"
   ]
  },
  {
   "cell_type": "code",
   "execution_count": 23,
   "metadata": {},
   "outputs": [
    {
     "name": "stdout",
     "output_type": "stream",
     "text": [
      "Accuracy test: 0.944, Accuracy validation: 0.946, F1 score: 0.824, AUC: 0.979\n"
     ]
    }
   ],
   "source": [
    "predictions_cl(X_test, y_test, X_val, y_val, rf, TARGET_DC)"
   ]
  },
  {
   "cell_type": "code",
   "execution_count": 24,
   "metadata": {},
   "outputs": [],
   "source": [
    "#y_pred = final_rf.predict(X_test)\n",
    "#pd.crosstab(y_test, y_pred)  #(n_estimators=100, max_depth=12, random_state=42)"
   ]
  },
  {
   "cell_type": "code",
   "execution_count": 25,
   "metadata": {},
   "outputs": [
    {
     "data": {
      "text/html": [
       "<div>\n",
       "<style scoped>\n",
       "    .dataframe tbody tr th:only-of-type {\n",
       "        vertical-align: middle;\n",
       "    }\n",
       "\n",
       "    .dataframe tbody tr th {\n",
       "        vertical-align: top;\n",
       "    }\n",
       "\n",
       "    .dataframe thead th {\n",
       "        text-align: right;\n",
       "    }\n",
       "</style>\n",
       "<table border=\"1\" class=\"dataframe\">\n",
       "  <thead>\n",
       "    <tr style=\"text-align: right;\">\n",
       "      <th>col_0</th>\n",
       "      <th>0</th>\n",
       "      <th>1</th>\n",
       "    </tr>\n",
       "    <tr>\n",
       "      <th>debit_card</th>\n",
       "      <th></th>\n",
       "      <th></th>\n",
       "    </tr>\n",
       "  </thead>\n",
       "  <tbody>\n",
       "    <tr>\n",
       "      <th>0</th>\n",
       "      <td>79618</td>\n",
       "      <td>3168</td>\n",
       "    </tr>\n",
       "    <tr>\n",
       "      <th>1</th>\n",
       "      <td>2289</td>\n",
       "      <td>12818</td>\n",
       "    </tr>\n",
       "  </tbody>\n",
       "</table>\n",
       "</div>"
      ],
      "text/plain": [
       "col_0           0      1\n",
       "debit_card              \n",
       "0           79618   3168\n",
       "1            2289  12818"
      ]
     },
     "execution_count": 25,
     "metadata": {},
     "output_type": "execute_result"
    }
   ],
   "source": [
    "y_pred = rf.predict(X_test)\n",
    "pd.crosstab(y_test, y_pred)  #(n_estimators=100, max_depth=10, random_state=42)"
   ]
  },
  {
   "cell_type": "code",
   "execution_count": 26,
   "metadata": {},
   "outputs": [
    {
     "data": {
      "image/png": "[encoded data removed]",
      "text/plain": [
       "<Figure size 640x480 with 1 Axes>"
      ]
     },
     "metadata": {},
     "output_type": "display_data"
    }
   ],
   "source": [
    "paint_roc_curve(X_test, y_test, rf)"
   ]
  },
  {
   "cell_type": "markdown",
   "metadata": {},
   "source": [
    "#### 2.3.3. XGBoost"
   ]
  },
  {
   "cell_type": "code",
   "execution_count": null,
   "metadata": {},
   "outputs": [],
   "source": [
    "param_grid = {\n",
    "    'objective': ['binary:logistic'],\n",
    "    'eta': [0.1, 0.2, 0.3, 0.4],\n",
    "    'max_depth': np.arange(2, 15),\n",
    "    'silent': [1],\n",
    "    'nthread': [2, 3, 4, 5, 6],\n",
    "    'eval_metric': ['auc']\n",
    "}\n",
    "\n",
    "# Inicializar el modelo XGBoost\n",
    "xgb_model = xgb.XGBClassifier()\n",
    "\n",
    "# Inicializar la validación cruzada\n",
    "cv = KFold()\n",
    "\n",
    "# Iniciar el tiempo\n",
    "st = time.time()\n",
    "\n",
    "# Realizar la búsqueda de hiperparámetros\n",
    "rand_cv = RandomizedSearchCV(\n",
    "    estimator=xgb_model,\n",
    "    param_distributions=param_grid,\n",
    "    cv=cv,\n",
    "    return_train_score=True,\n",
    "    verbose=False,\n",
    "    n_jobs=-1\n",
    ")\n",
    "\n",
    "# Ajustar el modelo a los datos de entrenamiento\n",
    "rand_cv.fit(X_train, y_train)\n",
    "\n",
    "# Calcular el puntaje del modelo en los datos de entrenamiento\n",
    "score_rand = rand_cv.score(X_train, y_train)\n",
    "\n",
    "# Detener el tiempo\n",
    "et = time.time()\n",
    "\n",
    "# Calcular el tiempo total\n",
    "tt_rand = round((et - st) / 60, 2)\n",
    "print(\"Total time took: \", str(tt_rand), \" minutes!\")\n",
    "\n",
    "# Mostrar los mejores parámetros encontrados y el puntaje\n",
    "pd.DataFrame(\n",
    "    data=list(rand_cv.best_params_.values()) + [round(score_rand, 3)],\n",
    "    index=list(rand_cv.best_params_.keys()) + [\"Score\"],\n",
    "    columns=[\"RandomizedSearchCV\"]\n",
    ")\n",
    "\n",
    "# Una vez que tienes los mejores parámetros, puedes entrenar el modelo final con estos parámetros\n",
    "best_params = rand_cv.best_params_\n",
    "xgb_model_final = xgb.XGBClassifier(**best_params)\n",
    "xgb_model_final.fit(X_train, y_train)"
   ]
  },
  {
   "cell_type": "code",
   "execution_count": 28,
   "metadata": {},
   "outputs": [],
   "source": [
    "xgb_train = xgb.DMatrix(X_train, label=y_train)\n",
    "xgb_val = xgb.DMatrix(X_val, label=y_val)\n",
    "xgb_test = xgb.DMatrix(X_test, label=y_test)\n",
    "\n",
    "param = {}\n",
    "param['objective'] = 'binary:logistic'\n",
    "param['eta'] = 0.1\n",
    "param['max_depth'] = 10\n",
    "param['silent'] = 1\n",
    "param['nthread'] = 4\n",
    "param['eval_metric'] = 'auc'\n",
    "watchlist = [(xgb_train, 'train'), (xgb_val, 'val')]\n",
    "#num_boost_round = 400\n",
    "num_boost_round = 65"
   ]
  },
  {
   "cell_type": "code",
   "execution_count": 29,
   "metadata": {},
   "outputs": [
    {
     "name": "stdout",
     "output_type": "stream",
     "text": [
      "[0]\ttrain-auc:0.98280\tval-auc:0.98193\n",
      "[1]\ttrain-auc:0.98369\tval-auc:0.98277\n",
      "[2]\ttrain-auc:0.98402\tval-auc:0.98299\n",
      "[3]\ttrain-auc:0.98421\tval-auc:0.98315\n",
      "[4]\ttrain-auc:0.98443\tval-auc:0.98327\n",
      "[5]\ttrain-auc:0.98457\tval-auc:0.98339\n",
      "[6]\ttrain-auc:0.98477\tval-auc:0.98352\n",
      "[7]\ttrain-auc:0.98489\tval-auc:0.98359\n",
      "[8]\ttrain-auc:0.98501\tval-auc:0.98363\n",
      "[9]\ttrain-auc:0.98510\tval-auc:0.98368\n",
      "[10]\ttrain-auc:0.98520\tval-auc:0.98372\n",
      "[11]\ttrain-auc:0.98528\tval-auc:0.98376\n",
      "[12]\ttrain-auc:0.98539\tval-auc:0.98383\n",
      "[13]\ttrain-auc:0.98550\tval-auc:0.98389\n",
      "[14]\ttrain-auc:0.98560\tval-auc:0.98392\n",
      "[15]\ttrain-auc:0.98570\tval-auc:0.98399\n",
      "[16]\ttrain-auc:0.98576\tval-auc:0.98400\n",
      "[17]\ttrain-auc:0.98584\tval-auc:0.98403\n",
      "[18]\ttrain-auc:0.98589\tval-auc:0.98405\n",
      "[19]\ttrain-auc:0.98597\tval-auc:0.98408\n",
      "[20]\ttrain-auc:0.98604\tval-auc:0.98409\n",
      "[21]\ttrain-auc:0.98612\tval-auc:0.98413\n",
      "[22]\ttrain-auc:0.98619\tval-auc:0.98415\n",
      "[23]\ttrain-auc:0.98625\tval-auc:0.98418\n",
      "[24]\ttrain-auc:0.98634\tval-auc:0.98422\n",
      "[25]\ttrain-auc:0.98638\tval-auc:0.98424\n",
      "[26]\ttrain-auc:0.98646\tval-auc:0.98425\n",
      "[27]\ttrain-auc:0.98650\tval-auc:0.98426\n",
      "[28]\ttrain-auc:0.98657\tval-auc:0.98429\n",
      "[29]\ttrain-auc:0.98663\tval-auc:0.98430\n",
      "[30]\ttrain-auc:0.98670\tval-auc:0.98436\n",
      "[31]\ttrain-auc:0.98675\tval-auc:0.98437\n",
      "[32]\ttrain-auc:0.98679\tval-auc:0.98438\n",
      "[33]\ttrain-auc:0.98683\tval-auc:0.98439\n",
      "[34]\ttrain-auc:0.98687\tval-auc:0.98440\n",
      "[35]\ttrain-auc:0.98691\tval-auc:0.98441\n",
      "[36]\ttrain-auc:0.98695\tval-auc:0.98442\n",
      "[37]\ttrain-auc:0.98699\tval-auc:0.98443\n",
      "[38]\ttrain-auc:0.98702\tval-auc:0.98444\n",
      "[39]\ttrain-auc:0.98704\tval-auc:0.98445\n",
      "[40]\ttrain-auc:0.98706\tval-auc:0.98445\n",
      "[41]\ttrain-auc:0.98711\tval-auc:0.98448\n",
      "[42]\ttrain-auc:0.98715\tval-auc:0.98450\n",
      "[43]\ttrain-auc:0.98723\tval-auc:0.98454\n",
      "[44]\ttrain-auc:0.98728\tval-auc:0.98455\n",
      "[45]\ttrain-auc:0.98731\tval-auc:0.98456\n",
      "[46]\ttrain-auc:0.98736\tval-auc:0.98457\n",
      "[47]\ttrain-auc:0.98739\tval-auc:0.98458\n",
      "[48]\ttrain-auc:0.98740\tval-auc:0.98458\n",
      "[49]\ttrain-auc:0.98743\tval-auc:0.98459\n",
      "[50]\ttrain-auc:0.98746\tval-auc:0.98461\n",
      "[51]\ttrain-auc:0.98750\tval-auc:0.98463\n",
      "[52]\ttrain-auc:0.98753\tval-auc:0.98463\n",
      "[53]\ttrain-auc:0.98757\tval-auc:0.98464\n",
      "[54]\ttrain-auc:0.98759\tval-auc:0.98465\n",
      "[55]\ttrain-auc:0.98762\tval-auc:0.98466\n",
      "[56]\ttrain-auc:0.98765\tval-auc:0.98467\n",
      "[57]\ttrain-auc:0.98767\tval-auc:0.98467\n",
      "[58]\ttrain-auc:0.98771\tval-auc:0.98468\n",
      "[59]\ttrain-auc:0.98778\tval-auc:0.98471\n",
      "[60]\ttrain-auc:0.98780\tval-auc:0.98472\n",
      "[61]\ttrain-auc:0.98785\tval-auc:0.98473\n",
      "[62]\ttrain-auc:0.98790\tval-auc:0.98476\n",
      "[63]\ttrain-auc:0.98794\tval-auc:0.98477\n",
      "[64]\ttrain-auc:0.98797\tval-auc:0.98479\n"
     ]
    }
   ],
   "source": [
    "xgb_model = xgb.train(params=param, dtrain=xgb_train, num_boost_round=num_boost_round, evals=watchlist)"
   ]
  },
  {
   "cell_type": "code",
   "execution_count": 30,
   "metadata": {},
   "outputs": [
    {
     "name": "stdout",
     "output_type": "stream",
     "text": [
      "AUC del XGBoost en el Dataset de Validación: 0.9848\n",
      "AUC del XGBoost en el Dataset de Test: 0.9837\n"
     ]
    }
   ],
   "source": [
    "y_pred_xgb = xgb_model.predict(xgb_test)\n",
    "y_pred_val_xgb = xgb_model.predict(xgb_val)\n",
    "\n",
    "print('AUC del XGBoost en el Dataset de Validación: {:.4f}'.format(roc_auc_score(y_val, y_pred_val_xgb)))\n",
    "print('AUC del XGBoost en el Dataset de Test: {:.4f}'.format(roc_auc_score(y_test, y_pred_xgb)))"
   ]
  },
  {
   "cell_type": "code",
   "execution_count": 31,
   "metadata": {},
   "outputs": [
    {
     "name": "stdout",
     "output_type": "stream",
     "text": [
      "              precision    recall  f1-score   support\n",
      "\n",
      "           0       0.97      0.97      0.97     82786\n",
      "           1       0.83      0.84      0.84     15107\n",
      "\n",
      "    accuracy                           0.95     97893\n",
      "   macro avg       0.90      0.90      0.90     97893\n",
      "weighted avg       0.95      0.95      0.95     97893\n",
      "\n"
     ]
    }
   ],
   "source": [
    "y_pred_binary = [1 if p >= 0.5 else 0 for p in y_pred_xgb]\n",
    "y_val_binary = [1 if p >= 0.5 else 0 for p in y_pred_val_xgb]\n",
    "print(classification_report(y_test,y_pred_binary))"
   ]
  },
  {
   "cell_type": "code",
   "execution_count": 32,
   "metadata": {},
   "outputs": [
    {
     "data": {
      "text/html": [
       "<div>\n",
       "<style scoped>\n",
       "    .dataframe tbody tr th:only-of-type {\n",
       "        vertical-align: middle;\n",
       "    }\n",
       "\n",
       "    .dataframe tbody tr th {\n",
       "        vertical-align: top;\n",
       "    }\n",
       "\n",
       "    .dataframe thead th {\n",
       "        text-align: right;\n",
       "    }\n",
       "</style>\n",
       "<table border=\"1\" class=\"dataframe\">\n",
       "  <thead>\n",
       "    <tr style=\"text-align: right;\">\n",
       "      <th>col_0</th>\n",
       "      <th>0</th>\n",
       "      <th>1</th>\n",
       "    </tr>\n",
       "    <tr>\n",
       "      <th>debit_card</th>\n",
       "      <th></th>\n",
       "      <th></th>\n",
       "    </tr>\n",
       "  </thead>\n",
       "  <tbody>\n",
       "    <tr>\n",
       "      <th>0</th>\n",
       "      <td>80248</td>\n",
       "      <td>2538</td>\n",
       "    </tr>\n",
       "    <tr>\n",
       "      <th>1</th>\n",
       "      <td>2457</td>\n",
       "      <td>12650</td>\n",
       "    </tr>\n",
       "  </tbody>\n",
       "</table>\n",
       "</div>"
      ],
      "text/plain": [
       "col_0           0      1\n",
       "debit_card              \n",
       "0           80248   2538\n",
       "1            2457  12650"
      ]
     },
     "execution_count": 32,
     "metadata": {},
     "output_type": "execute_result"
    }
   ],
   "source": [
    "pd.crosstab(y_test, y_pred_binary)"
   ]
  },
  {
   "cell_type": "code",
   "execution_count": 33,
   "metadata": {},
   "outputs": [
    {
     "data": {
      "image/png": "[encoded data removed]",
      "text/plain": [
       "<Figure size 800x600 with 2 Axes>"
      ]
     },
     "metadata": {},
     "output_type": "display_data"
    }
   ],
   "source": [
    "def xgb_confusion_matrix(y_true, y_pred, classes):\n",
    "    cm = confusion_matrix(y_true, y_pred)\n",
    "    plt.figure(figsize=(8, 6))\n",
    "    sns.heatmap(cm, annot=True, fmt='d', cmap='Blues', xticklabels=classes, yticklabels=classes)\n",
    "    plt.xlabel('Predicted labels')\n",
    "    plt.ylabel('True labels')\n",
    "    plt.title('Confusion Matrix')\n",
    "    plt.show()\n",
    "\n",
    "# Suponiendo que ya tienes tu modelo XGBoost entrenado y los datos de prueba X_test, y_test\n",
    "dtest = xgb.DMatrix(X_test)\n",
    "y_pred = xgb_model.predict(dtest)\n",
    "y_pred_binary = np.where(y_pred > 0.8, 1, 0)\n",
    "xgb_confusion_matrix(y_test, y_pred_binary, classes=['Class 0', 'Class 1'])"
   ]
  },
  {
   "cell_type": "code",
   "execution_count": 34,
   "metadata": {},
   "outputs": [
    {
     "data": {
      "image/png": "[encoded data removed]",
      "text/plain": [
       "<Figure size 640x480 with 1 Axes>"
      ]
     },
     "metadata": {},
     "output_type": "display_data"
    }
   ],
   "source": [
    "def xgb_paint_roc_curve(X_test, y_test, algorithm):\n",
    "    dtest = xgb.DMatrix(X_test)\n",
    "    y_proba = algorithm.predict(dtest, output_margin=True)\n",
    "    fpr, tpr, _ = metrics.roc_curve(y_test, y_proba)\n",
    "\n",
    "    plt.clf()\n",
    "    plt.plot(fpr, tpr)\n",
    "    plt.plot([0, 1], [0, 1], color='gray', linestyle='--')\n",
    "    plt.xlabel('FPR')\n",
    "    plt.ylabel('TPR')\n",
    "    plt.title('ROC curve')\n",
    "    plt.show()\n",
    "\n",
    "\n",
    "xgb_paint_roc_curve(X_test, y_test, xgb_model)"
   ]
  },
  {
   "cell_type": "markdown",
   "metadata": {},
   "source": [
    "#### 2.3.4. Logistic Regresion"
   ]
  },
  {
   "cell_type": "code",
   "execution_count": 35,
   "metadata": {},
   "outputs": [
    {
     "data": {
      "text/html": [
       "<style>#sk-container-id-3 {color: black;}#sk-container-id-3 pre{padding: 0;}#sk-container-id-3 div.sk-toggleable {background-color: white;}#sk-container-id-3 label.sk-toggleable__label {cursor: pointer;display: block;width: 100%;margin-bottom: 0;padding: 0.3em;box-sizing: border-box;text-align: center;}#sk-container-id-3 label.sk-toggleable__label-arrow:before {content: \"▸\";float: left;margin-right: 0.25em;color: #696969;}#sk-container-id-3 label.sk-toggleable__label-arrow:hover:before {color: black;}#sk-container-id-3 div.sk-estimator:hover label.sk-toggleable__label-arrow:before {color: black;}#sk-container-id-3 div.sk-toggleable__content {max-height: 0;max-width: 0;overflow: hidden;text-align: left;background-color: #f0f8ff;}#sk-container-id-3 div.sk-toggleable__content pre {margin: 0.2em;color: black;border-radius: 0.25em;background-color: #f0f8ff;}#sk-container-id-3 input.sk-toggleable__control:checked~div.sk-toggleable__content {max-height: 200px;max-width: 100%;overflow: auto;}#sk-container-id-3 input.sk-toggleable__control:checked~label.sk-toggleable__label-arrow:before {content: \"▾\";}#sk-container-id-3 div.sk-estimator input.sk-toggleable__control:checked~label.sk-toggleable__label {background-color: #d4ebff;}#sk-container-id-3 div.sk-label input.sk-toggleable__control:checked~label.sk-toggleable__label {background-color: #d4ebff;}#sk-container-id-3 input.sk-hidden--visually {border: 0;clip: rect(1px 1px 1px 1px);clip: rect(1px, 1px, 1px, 1px);height: 1px;margin: -1px;overflow: hidden;padding: 0;position: absolute;width: 1px;}#sk-container-id-3 div.sk-estimator {font-family: monospace;background-color: #f0f8ff;border: 1px dotted black;border-radius: 0.25em;box-sizing: border-box;margin-bottom: 0.5em;}#sk-container-id-3 div.sk-estimator:hover {background-color: #d4ebff;}#sk-container-id-3 div.sk-parallel-item::after {content: \"\";width: 100%;border-bottom: 1px solid gray;flex-grow: 1;}#sk-container-id-3 div.sk-label:hover label.sk-toggleable__label {background-color: #d4ebff;}#sk-container-id-3 div.sk-serial::before {content: \"\";position: absolute;border-left: 1px solid gray;box-sizing: border-box;top: 0;bottom: 0;left: 50%;z-index: 0;}#sk-container-id-3 div.sk-serial {display: flex;flex-direction: column;align-items: center;background-color: white;padding-right: 0.2em;padding-left: 0.2em;position: relative;}#sk-container-id-3 div.sk-item {position: relative;z-index: 1;}#sk-container-id-3 div.sk-parallel {display: flex;align-items: stretch;justify-content: center;background-color: white;position: relative;}#sk-container-id-3 div.sk-item::before, #sk-container-id-3 div.sk-parallel-item::before {content: \"\";position: absolute;border-left: 1px solid gray;box-sizing: border-box;top: 0;bottom: 0;left: 50%;z-index: -1;}#sk-container-id-3 div.sk-parallel-item {display: flex;flex-direction: column;z-index: 1;position: relative;background-color: white;}#sk-container-id-3 div.sk-parallel-item:first-child::after {align-self: flex-end;width: 50%;}#sk-container-id-3 div.sk-parallel-item:last-child::after {align-self: flex-start;width: 50%;}#sk-container-id-3 div.sk-parallel-item:only-child::after {width: 0;}#sk-container-id-3 div.sk-dashed-wrapped {border: 1px dashed gray;margin: 0 0.4em 0.5em 0.4em;box-sizing: border-box;padding-bottom: 0.4em;background-color: white;}#sk-container-id-3 div.sk-label label {font-family: monospace;font-weight: bold;display: inline-block;line-height: 1.2em;}#sk-container-id-3 div.sk-label-container {text-align: center;}#sk-container-id-3 div.sk-container {/* jupyter's `normalize.less` sets `[hidden] { display: none; }` but bootstrap.min.css set `[hidden] { display: none !important; }` so we also need the `!important` here to be able to override the default hidden behavior on the sphinx rendered scikit-learn.org. See: https://github.com/scikit-learn/scikit-learn/issues/21755 */display: inline-block !important;position: relative;}#sk-container-id-3 div.sk-text-repr-fallback {display: none;}</style><div id=\"sk-container-id-3\" class=\"sk-top-container\"><div class=\"sk-text-repr-fallback\"><pre>LogisticRegression(solver=&#x27;liblinear&#x27;)</pre><b>In a Jupyter environment, please rerun this cell to show the HTML representation or trust the notebook. <br />On GitHub, the HTML representation is unable to render, please try loading this page with nbviewer.org.</b></div><div class=\"sk-container\" hidden><div class=\"sk-item\"><div class=\"sk-estimator sk-toggleable\"><input class=\"sk-toggleable__control sk-hidden--visually\" id=\"sk-estimator-id-3\" type=\"checkbox\" checked><label for=\"sk-estimator-id-3\" class=\"sk-toggleable__label sk-toggleable__label-arrow\">LogisticRegression</label><div class=\"sk-toggleable__content\"><pre>LogisticRegression(solver=&#x27;liblinear&#x27;)</pre></div></div></div></div></div>"
      ],
      "text/plain": [
       "LogisticRegression(solver='liblinear')"
      ]
     },
     "execution_count": 35,
     "metadata": {},
     "output_type": "execute_result"
    }
   ],
   "source": [
    "lg = LogisticRegression(solver='liblinear', C = 1.0)\n",
    "lg.fit(X_train, y_train)"
   ]
  },
  {
   "cell_type": "code",
   "execution_count": 36,
   "metadata": {},
   "outputs": [
    {
     "name": "stdout",
     "output_type": "stream",
     "text": [
      "Accuracy test: 0.846, Accuracy validation: 0.848, F1 score: 0.0, AUC: 0.573\n"
     ]
    }
   ],
   "source": [
    "predictions_cl(X_test, y_test, X_val, y_val, lg, TARGET_DC)"
   ]
  },
  {
   "cell_type": "code",
   "execution_count": 37,
   "metadata": {},
   "outputs": [
    {
     "data": {
      "text/html": [
       "<div>\n",
       "<style scoped>\n",
       "    .dataframe tbody tr th:only-of-type {\n",
       "        vertical-align: middle;\n",
       "    }\n",
       "\n",
       "    .dataframe tbody tr th {\n",
       "        vertical-align: top;\n",
       "    }\n",
       "\n",
       "    .dataframe thead th {\n",
       "        text-align: right;\n",
       "    }\n",
       "</style>\n",
       "<table border=\"1\" class=\"dataframe\">\n",
       "  <thead>\n",
       "    <tr style=\"text-align: right;\">\n",
       "      <th>col_0</th>\n",
       "      <th>0</th>\n",
       "    </tr>\n",
       "    <tr>\n",
       "      <th>debit_card</th>\n",
       "      <th></th>\n",
       "    </tr>\n",
       "  </thead>\n",
       "  <tbody>\n",
       "    <tr>\n",
       "      <th>0</th>\n",
       "      <td>82786</td>\n",
       "    </tr>\n",
       "    <tr>\n",
       "      <th>1</th>\n",
       "      <td>15107</td>\n",
       "    </tr>\n",
       "  </tbody>\n",
       "</table>\n",
       "</div>"
      ],
      "text/plain": [
       "col_0           0\n",
       "debit_card       \n",
       "0           82786\n",
       "1           15107"
      ]
     },
     "execution_count": 37,
     "metadata": {},
     "output_type": "execute_result"
    }
   ],
   "source": [
    "y_pred = lg.predict(X_test)\n",
    "pd.crosstab(y_test, y_pred)  #(n_estimators=100, max_depth=10, random_state=42)"
   ]
  },
  {
   "cell_type": "code",
   "execution_count": 38,
   "metadata": {},
   "outputs": [
    {
     "data": {
      "image/png": "[encoded data removed]",
      "text/plain": [
       "<Figure size 640x480 with 1 Axes>"
      ]
     },
     "metadata": {},
     "output_type": "display_data"
    }
   ],
   "source": [
    "paint_roc_curve(X_test, y_test, lg)"
   ]
  },
  {
   "cell_type": "code",
   "execution_count": 39,
   "metadata": {},
   "outputs": [
    {
     "name": "stdout",
     "output_type": "stream",
     "text": [
      "              precision    recall  f1-score   support\n",
      "\n",
      "           0       0.85      1.00      0.92     82786\n",
      "           1       0.00      0.00      0.00     15107\n",
      "\n",
      "    accuracy                           0.85     97893\n",
      "   macro avg       0.42      0.50      0.46     97893\n",
      "weighted avg       0.72      0.85      0.77     97893\n",
      "\n"
     ]
    }
   ],
   "source": [
    "y_pred_binary = [1 if p >= 0.5 else 0 for p in y_pred]\n",
    "print(classification_report(y_test,y_pred_binary))"
   ]
  },
  {
   "cell_type": "markdown",
   "metadata": {},
   "source": [
    "### 2.4. DEBIT CARD"
   ]
  },
  {
   "cell_type": "code",
   "execution_count": 40,
   "metadata": {},
   "outputs": [],
   "source": [
    "X_train, X_test, y_train, y_test, X_val, y_val = validation_strategy_cl(em_propensity_dc, TARGET_DC)"
   ]
  },
  {
   "cell_type": "markdown",
   "metadata": {},
   "source": [
    "#### 2.4.1. Training"
   ]
  },
  {
   "cell_type": "code",
   "execution_count": 41,
   "metadata": {},
   "outputs": [],
   "source": [
    "xgb_train = xgb.DMatrix(X_train, label=y_train)\n",
    "xgb_val = xgb.DMatrix(X_val, label=y_val)\n",
    "xgb_test = xgb.DMatrix(X_test, label=y_test)\n",
    "\n",
    "param = {}\n",
    "param['objective'] = 'binary:logistic'\n",
    "param['eta'] = 0.1\n",
    "param['max_depth'] = 10\n",
    "param['silent'] = 1\n",
    "param['nthread'] = 4\n",
    "param['eval_metric'] = 'auc'\n",
    "watchlist = [(xgb_train, 'train'), (xgb_val, 'val')]\n",
    "#num_boost_round = 400\n",
    "num_boost_round = 65"
   ]
  },
  {
   "cell_type": "code",
   "execution_count": 42,
   "metadata": {},
   "outputs": [
    {
     "name": "stdout",
     "output_type": "stream",
     "text": [
      "[0]\ttrain-auc:0.98280\tval-auc:0.98193\n",
      "[1]\ttrain-auc:0.98369\tval-auc:0.98277\n",
      "[2]\ttrain-auc:0.98402\tval-auc:0.98299\n",
      "[3]\ttrain-auc:0.98421\tval-auc:0.98315\n",
      "[4]\ttrain-auc:0.98443\tval-auc:0.98327\n",
      "[5]\ttrain-auc:0.98457\tval-auc:0.98339\n",
      "[6]\ttrain-auc:0.98477\tval-auc:0.98352\n",
      "[7]\ttrain-auc:0.98489\tval-auc:0.98359\n",
      "[8]\ttrain-auc:0.98501\tval-auc:0.98363\n",
      "[9]\ttrain-auc:0.98510\tval-auc:0.98368\n",
      "[10]\ttrain-auc:0.98520\tval-auc:0.98372\n",
      "[11]\ttrain-auc:0.98528\tval-auc:0.98376\n",
      "[12]\ttrain-auc:0.98539\tval-auc:0.98383\n",
      "[13]\ttrain-auc:0.98550\tval-auc:0.98389\n",
      "[14]\ttrain-auc:0.98560\tval-auc:0.98392\n",
      "[15]\ttrain-auc:0.98570\tval-auc:0.98399\n",
      "[16]\ttrain-auc:0.98576\tval-auc:0.98400\n",
      "[17]\ttrain-auc:0.98584\tval-auc:0.98403\n",
      "[18]\ttrain-auc:0.98589\tval-auc:0.98405\n",
      "[19]\ttrain-auc:0.98597\tval-auc:0.98408\n",
      "[20]\ttrain-auc:0.98604\tval-auc:0.98409\n",
      "[21]\ttrain-auc:0.98612\tval-auc:0.98413\n",
      "[22]\ttrain-auc:0.98619\tval-auc:0.98415\n",
      "[23]\ttrain-auc:0.98625\tval-auc:0.98418\n",
      "[24]\ttrain-auc:0.98634\tval-auc:0.98422\n",
      "[25]\ttrain-auc:0.98638\tval-auc:0.98424\n",
      "[26]\ttrain-auc:0.98646\tval-auc:0.98425\n",
      "[27]\ttrain-auc:0.98650\tval-auc:0.98426\n",
      "[28]\ttrain-auc:0.98657\tval-auc:0.98429\n",
      "[29]\ttrain-auc:0.98663\tval-auc:0.98430\n",
      "[30]\ttrain-auc:0.98670\tval-auc:0.98436\n",
      "[31]\ttrain-auc:0.98675\tval-auc:0.98437\n",
      "[32]\ttrain-auc:0.98679\tval-auc:0.98438\n",
      "[33]\ttrain-auc:0.98683\tval-auc:0.98439\n",
      "[34]\ttrain-auc:0.98687\tval-auc:0.98440\n",
      "[35]\ttrain-auc:0.98691\tval-auc:0.98441\n",
      "[36]\ttrain-auc:0.98695\tval-auc:0.98442\n",
      "[37]\ttrain-auc:0.98699\tval-auc:0.98443\n",
      "[38]\ttrain-auc:0.98702\tval-auc:0.98444\n",
      "[39]\ttrain-auc:0.98704\tval-auc:0.98445\n",
      "[40]\ttrain-auc:0.98706\tval-auc:0.98445\n",
      "[41]\ttrain-auc:0.98711\tval-auc:0.98448\n",
      "[42]\ttrain-auc:0.98715\tval-auc:0.98450\n",
      "[43]\ttrain-auc:0.98723\tval-auc:0.98454\n",
      "[44]\ttrain-auc:0.98728\tval-auc:0.98455\n",
      "[45]\ttrain-auc:0.98731\tval-auc:0.98456\n",
      "[46]\ttrain-auc:0.98736\tval-auc:0.98457\n",
      "[47]\ttrain-auc:0.98739\tval-auc:0.98458\n",
      "[48]\ttrain-auc:0.98740\tval-auc:0.98458\n",
      "[49]\ttrain-auc:0.98743\tval-auc:0.98459\n",
      "[50]\ttrain-auc:0.98746\tval-auc:0.98461\n",
      "[51]\ttrain-auc:0.98750\tval-auc:0.98463\n",
      "[52]\ttrain-auc:0.98753\tval-auc:0.98463\n",
      "[53]\ttrain-auc:0.98757\tval-auc:0.98464\n",
      "[54]\ttrain-auc:0.98759\tval-auc:0.98465\n",
      "[55]\ttrain-auc:0.98762\tval-auc:0.98466\n",
      "[56]\ttrain-auc:0.98765\tval-auc:0.98467\n",
      "[57]\ttrain-auc:0.98767\tval-auc:0.98467\n",
      "[58]\ttrain-auc:0.98771\tval-auc:0.98468\n",
      "[59]\ttrain-auc:0.98778\tval-auc:0.98471\n",
      "[60]\ttrain-auc:0.98780\tval-auc:0.98472\n",
      "[61]\ttrain-auc:0.98785\tval-auc:0.98473\n",
      "[62]\ttrain-auc:0.98790\tval-auc:0.98476\n",
      "[63]\ttrain-auc:0.98794\tval-auc:0.98477\n",
      "[64]\ttrain-auc:0.98797\tval-auc:0.98479\n"
     ]
    }
   ],
   "source": [
    "xgb_model_dc = xgb.train(params=param, dtrain=xgb_train, num_boost_round=num_boost_round, evals=watchlist)"
   ]
  },
  {
   "cell_type": "markdown",
   "metadata": {},
   "source": [
    "#### 2.4.2. Predictions"
   ]
  },
  {
   "cell_type": "code",
   "execution_count": 43,
   "metadata": {},
   "outputs": [
    {
     "name": "stdout",
     "output_type": "stream",
     "text": [
      "AUC del XGBoost en el Dataset de Validación: 0.9848\n",
      "AUC del XGBoost en el Dataset de Test: 0.9837\n"
     ]
    }
   ],
   "source": [
    "y_pred_xgb = xgb_model_dc.predict(xgb_test)\n",
    "y_pred_val_xgb = xgb_model_dc.predict(xgb_val)\n",
    "\n",
    "print('AUC del XGBoost en el Dataset de Validación: {:.4f}'.format(roc_auc_score(y_val, y_pred_val_xgb)))\n",
    "print('AUC del XGBoost en el Dataset de Test: {:.4f}'.format(roc_auc_score(y_test, y_pred_xgb)))"
   ]
  },
  {
   "cell_type": "code",
   "execution_count": 44,
   "metadata": {},
   "outputs": [
    {
     "name": "stdout",
     "output_type": "stream",
     "text": [
      "              precision    recall  f1-score   support\n",
      "\n",
      "           0       0.97      0.97      0.97     82786\n",
      "           1       0.83      0.84      0.84     15107\n",
      "\n",
      "    accuracy                           0.95     97893\n",
      "   macro avg       0.90      0.90      0.90     97893\n",
      "weighted avg       0.95      0.95      0.95     97893\n",
      "\n"
     ]
    }
   ],
   "source": [
    "y_pred_binary = [1 if p >= 0.5 else 0 for p in y_pred_xgb]\n",
    "y_val_binary = [1 if p >= 0.5 else 0 for p in y_pred_val_xgb]\n",
    "print(classification_report(y_test,y_pred_binary))"
   ]
  },
  {
   "cell_type": "code",
   "execution_count": 45,
   "metadata": {},
   "outputs": [
    {
     "data": {
      "text/html": [
       "<div>\n",
       "<style scoped>\n",
       "    .dataframe tbody tr th:only-of-type {\n",
       "        vertical-align: middle;\n",
       "    }\n",
       "\n",
       "    .dataframe tbody tr th {\n",
       "        vertical-align: top;\n",
       "    }\n",
       "\n",
       "    .dataframe thead th {\n",
       "        text-align: right;\n",
       "    }\n",
       "</style>\n",
       "<table border=\"1\" class=\"dataframe\">\n",
       "  <thead>\n",
       "    <tr style=\"text-align: right;\">\n",
       "      <th>col_0</th>\n",
       "      <th>0</th>\n",
       "      <th>1</th>\n",
       "    </tr>\n",
       "    <tr>\n",
       "      <th>debit_card</th>\n",
       "      <th></th>\n",
       "      <th></th>\n",
       "    </tr>\n",
       "  </thead>\n",
       "  <tbody>\n",
       "    <tr>\n",
       "      <th>0</th>\n",
       "      <td>80248</td>\n",
       "      <td>2538</td>\n",
       "    </tr>\n",
       "    <tr>\n",
       "      <th>1</th>\n",
       "      <td>2457</td>\n",
       "      <td>12650</td>\n",
       "    </tr>\n",
       "  </tbody>\n",
       "</table>\n",
       "</div>"
      ],
      "text/plain": [
       "col_0           0      1\n",
       "debit_card              \n",
       "0           80248   2538\n",
       "1            2457  12650"
      ]
     },
     "execution_count": 45,
     "metadata": {},
     "output_type": "execute_result"
    }
   ],
   "source": [
    "pd.crosstab(y_test, y_pred_binary)"
   ]
  },
  {
   "cell_type": "code",
   "execution_count": 46,
   "metadata": {},
   "outputs": [
    {
     "data": {
      "image/png": "[encoded data removed]",
      "text/plain": [
       "<Figure size 640x480 with 1 Axes>"
      ]
     },
     "metadata": {},
     "output_type": "display_data"
    }
   ],
   "source": [
    "def xgb_paint_roc_curve(X_test, y_test, algorithm):\n",
    "    dtest = xgb.DMatrix(X_test)\n",
    "    y_proba = algorithm.predict(dtest, output_margin=True)\n",
    "    fpr, tpr, _ = metrics.roc_curve(y_test, y_proba)\n",
    "\n",
    "    plt.clf()\n",
    "    plt.plot(fpr, tpr)\n",
    "    plt.plot([0, 1], [0, 1], color='gray', linestyle='--')\n",
    "    plt.xlabel('FPR')\n",
    "    plt.ylabel('TPR')\n",
    "    plt.title('ROC curve')\n",
    "    plt.show()\n",
    "\n",
    "\n",
    "xgb_paint_roc_curve(X_test, y_test, xgb_model)"
   ]
  },
  {
   "cell_type": "markdown",
   "metadata": {},
   "source": [
    "#### 2.4.3. Saving model"
   ]
  },
  {
   "cell_type": "code",
   "execution_count": 47,
   "metadata": {},
   "outputs": [
    {
     "data": {
      "text/plain": [
       "['C:/Users/Usuario/Desktop/Proyects/Easy Money/EasyMoney_/models/xgb_model_dc.pkl']"
      ]
     },
     "execution_count": 47,
     "metadata": {},
     "output_type": "execute_result"
    }
   ],
   "source": [
    "joblib.dump(xgb_model_dc, 'C:/Users/Usuario/Desktop/Proyects/Easy Money/EasyMoney_/models/xgb_model_dc.pkl')"
   ]
  },
  {
   "cell_type": "markdown",
   "metadata": {},
   "source": [
    "### 2.5. PENSION PLAN"
   ]
  },
  {
   "cell_type": "code",
   "execution_count": 48,
   "metadata": {},
   "outputs": [],
   "source": [
    "X_train, X_test, y_train, y_test, X_val, y_val = validation_strategy_cl(em_propensity_pp, TARGET_PP)"
   ]
  },
  {
   "cell_type": "markdown",
   "metadata": {},
   "source": [
    "#### 2.5.1. Resample"
   ]
  },
  {
   "cell_type": "code",
   "execution_count": 49,
   "metadata": {},
   "outputs": [],
   "source": [
    "undersampler = RandomUnderSampler(sampling_strategy=0.15, random_state=42)\n"
   ]
  },
  {
   "cell_type": "code",
   "execution_count": 50,
   "metadata": {},
   "outputs": [],
   "source": [
    "X_train_r, y_train_r = undersampler.fit_resample(X_train, y_train)\n"
   ]
  },
  {
   "cell_type": "markdown",
   "metadata": {},
   "source": [
    "#### 2.5.2. Training"
   ]
  },
  {
   "cell_type": "code",
   "execution_count": 51,
   "metadata": {},
   "outputs": [],
   "source": [
    "xgb_train = xgb.DMatrix(X_train_r, label=y_train_r)\n",
    "xgb_val = xgb.DMatrix(X_val, label=y_val)\n",
    "xgb_test = xgb.DMatrix(X_test, label=y_test)\n",
    "\n",
    "param = {}\n",
    "param['objective'] = 'binary:logistic'\n",
    "param['eta'] = 0.1\n",
    "param['max_depth'] = 10\n",
    "param['silent'] = 1\n",
    "param['nthread'] = 4\n",
    "param['eval_metric'] = 'auc'\n",
    "watchlist = [(xgb_train, 'train'), (xgb_val, 'val')]\n",
    "#num_boost_round = 400\n",
    "num_boost_round = 65"
   ]
  },
  {
   "cell_type": "code",
   "execution_count": 52,
   "metadata": {},
   "outputs": [
    {
     "name": "stdout",
     "output_type": "stream",
     "text": [
      "[0]\ttrain-auc:0.99655\tval-auc:0.99601\n",
      "[1]\ttrain-auc:0.99679\tval-auc:0.99620\n",
      "[2]\ttrain-auc:0.99688\tval-auc:0.99629\n",
      "[3]\ttrain-auc:0.99701\tval-auc:0.99635\n",
      "[4]\ttrain-auc:0.99711\tval-auc:0.99642\n",
      "[5]\ttrain-auc:0.99724\tval-auc:0.99650\n",
      "[6]\ttrain-auc:0.99731\tval-auc:0.99654\n",
      "[7]\ttrain-auc:0.99740\tval-auc:0.99656\n",
      "[8]\ttrain-auc:0.99745\tval-auc:0.99657\n",
      "[9]\ttrain-auc:0.99751\tval-auc:0.99659\n",
      "[10]\ttrain-auc:0.99757\tval-auc:0.99660\n",
      "[11]\ttrain-auc:0.99761\tval-auc:0.99660\n",
      "[12]\ttrain-auc:0.99765\tval-auc:0.99661\n",
      "[13]\ttrain-auc:0.99785\tval-auc:0.99667\n",
      "[14]\ttrain-auc:0.99789\tval-auc:0.99668\n",
      "[15]\ttrain-auc:0.99792\tval-auc:0.99669\n",
      "[16]\ttrain-auc:0.99796\tval-auc:0.99670\n",
      "[17]\ttrain-auc:0.99800\tval-auc:0.99671\n",
      "[18]\ttrain-auc:0.99804\tval-auc:0.99672\n",
      "[19]\ttrain-auc:0.99806\tval-auc:0.99672\n",
      "[20]\ttrain-auc:0.99810\tval-auc:0.99674\n",
      "[21]\ttrain-auc:0.99820\tval-auc:0.99679\n",
      "[22]\ttrain-auc:0.99825\tval-auc:0.99679\n",
      "[23]\ttrain-auc:0.99829\tval-auc:0.99680\n",
      "[24]\ttrain-auc:0.99834\tval-auc:0.99681\n",
      "[25]\ttrain-auc:0.99837\tval-auc:0.99681\n",
      "[26]\ttrain-auc:0.99840\tval-auc:0.99681\n",
      "[27]\ttrain-auc:0.99843\tval-auc:0.99683\n",
      "[28]\ttrain-auc:0.99847\tval-auc:0.99683\n",
      "[29]\ttrain-auc:0.99850\tval-auc:0.99684\n",
      "[30]\ttrain-auc:0.99851\tval-auc:0.99684\n",
      "[31]\ttrain-auc:0.99853\tval-auc:0.99684\n",
      "[32]\ttrain-auc:0.99855\tval-auc:0.99685\n",
      "[33]\ttrain-auc:0.99856\tval-auc:0.99685\n",
      "[34]\ttrain-auc:0.99857\tval-auc:0.99685\n",
      "[35]\ttrain-auc:0.99859\tval-auc:0.99686\n",
      "[36]\ttrain-auc:0.99861\tval-auc:0.99686\n",
      "[37]\ttrain-auc:0.99862\tval-auc:0.99686\n",
      "[38]\ttrain-auc:0.99863\tval-auc:0.99687\n",
      "[39]\ttrain-auc:0.99865\tval-auc:0.99687\n",
      "[40]\ttrain-auc:0.99867\tval-auc:0.99688\n",
      "[41]\ttrain-auc:0.99869\tval-auc:0.99689\n",
      "[42]\ttrain-auc:0.99871\tval-auc:0.99690\n",
      "[43]\ttrain-auc:0.99873\tval-auc:0.99690\n",
      "[44]\ttrain-auc:0.99878\tval-auc:0.99704\n",
      "[45]\ttrain-auc:0.99880\tval-auc:0.99705\n",
      "[46]\ttrain-auc:0.99881\tval-auc:0.99706\n",
      "[47]\ttrain-auc:0.99883\tval-auc:0.99706\n",
      "[48]\ttrain-auc:0.99884\tval-auc:0.99707\n",
      "[49]\ttrain-auc:0.99886\tval-auc:0.99707\n",
      "[50]\ttrain-auc:0.99891\tval-auc:0.99711\n",
      "[51]\ttrain-auc:0.99892\tval-auc:0.99711\n",
      "[52]\ttrain-auc:0.99893\tval-auc:0.99712\n",
      "[53]\ttrain-auc:0.99895\tval-auc:0.99712\n",
      "[54]\ttrain-auc:0.99896\tval-auc:0.99712\n",
      "[55]\ttrain-auc:0.99898\tval-auc:0.99713\n",
      "[56]\ttrain-auc:0.99899\tval-auc:0.99713\n",
      "[57]\ttrain-auc:0.99900\tval-auc:0.99713\n",
      "[58]\ttrain-auc:0.99901\tval-auc:0.99714\n",
      "[59]\ttrain-auc:0.99902\tval-auc:0.99714\n",
      "[60]\ttrain-auc:0.99902\tval-auc:0.99714\n",
      "[61]\ttrain-auc:0.99903\tval-auc:0.99715\n",
      "[62]\ttrain-auc:0.99904\tval-auc:0.99715\n",
      "[63]\ttrain-auc:0.99906\tval-auc:0.99715\n",
      "[64]\ttrain-auc:0.99907\tval-auc:0.99716\n"
     ]
    }
   ],
   "source": [
    "xgb_model_pp = xgb.train(params=param, dtrain=xgb_train, num_boost_round=num_boost_round, evals=watchlist)"
   ]
  },
  {
   "cell_type": "markdown",
   "metadata": {},
   "source": [
    "#### 2.5.3. Predictions"
   ]
  },
  {
   "cell_type": "code",
   "execution_count": 53,
   "metadata": {},
   "outputs": [
    {
     "name": "stdout",
     "output_type": "stream",
     "text": [
      "AUC del XGBoost en el Dataset de Validación: 0.9972\n",
      "AUC del XGBoost en el Dataset de Test: 0.9972\n"
     ]
    }
   ],
   "source": [
    "y_pred_xgb = xgb_model_pp.predict(xgb_test)\n",
    "y_pred_val_xgb = xgb_model_pp.predict(xgb_val)\n",
    "\n",
    "print('AUC del XGBoost en el Dataset de Validación: {:.4f}'.format(roc_auc_score(y_val, y_pred_val_xgb)))\n",
    "print('AUC del XGBoost en el Dataset de Test: {:.4f}'.format(roc_auc_score(y_test, y_pred_xgb)))"
   ]
  },
  {
   "cell_type": "code",
   "execution_count": 54,
   "metadata": {},
   "outputs": [
    {
     "name": "stdout",
     "output_type": "stream",
     "text": [
      "              precision    recall  f1-score   support\n",
      "\n",
      "         0.0       1.00      0.99      0.99     89876\n",
      "         1.0       0.86      0.94      0.90      6664\n",
      "\n",
      "    accuracy                           0.99     96540\n",
      "   macro avg       0.93      0.97      0.95     96540\n",
      "weighted avg       0.99      0.99      0.99     96540\n",
      "\n"
     ]
    }
   ],
   "source": [
    "y_pred_binary = [1 if p >= 0.5 else 0 for p in y_pred_xgb]\n",
    "y_val_binary = [1 if p >= 0.5 else 0 for p in y_pred_val_xgb]\n",
    "print(classification_report(y_test,y_pred_binary))"
   ]
  },
  {
   "cell_type": "code",
   "execution_count": 55,
   "metadata": {},
   "outputs": [
    {
     "data": {
      "text/html": [
       "<div>\n",
       "<style scoped>\n",
       "    .dataframe tbody tr th:only-of-type {\n",
       "        vertical-align: middle;\n",
       "    }\n",
       "\n",
       "    .dataframe tbody tr th {\n",
       "        vertical-align: top;\n",
       "    }\n",
       "\n",
       "    .dataframe thead th {\n",
       "        text-align: right;\n",
       "    }\n",
       "</style>\n",
       "<table border=\"1\" class=\"dataframe\">\n",
       "  <thead>\n",
       "    <tr style=\"text-align: right;\">\n",
       "      <th>col_0</th>\n",
       "      <th>0</th>\n",
       "      <th>1</th>\n",
       "    </tr>\n",
       "    <tr>\n",
       "      <th>pension_plan</th>\n",
       "      <th></th>\n",
       "      <th></th>\n",
       "    </tr>\n",
       "  </thead>\n",
       "  <tbody>\n",
       "    <tr>\n",
       "      <th>0.0</th>\n",
       "      <td>88855</td>\n",
       "      <td>1021</td>\n",
       "    </tr>\n",
       "    <tr>\n",
       "      <th>1.0</th>\n",
       "      <td>384</td>\n",
       "      <td>6280</td>\n",
       "    </tr>\n",
       "  </tbody>\n",
       "</table>\n",
       "</div>"
      ],
      "text/plain": [
       "col_0             0     1\n",
       "pension_plan             \n",
       "0.0           88855  1021\n",
       "1.0             384  6280"
      ]
     },
     "execution_count": 55,
     "metadata": {},
     "output_type": "execute_result"
    }
   ],
   "source": [
    "pd.crosstab(y_test, y_pred_binary)"
   ]
  },
  {
   "cell_type": "code",
   "execution_count": 56,
   "metadata": {},
   "outputs": [
    {
     "data": {
      "image/png": "[encoded data removed]",
      "text/plain": [
       "<Figure size 640x480 with 1 Axes>"
      ]
     },
     "metadata": {},
     "output_type": "display_data"
    }
   ],
   "source": [
    "def xgb_paint_roc_curve(X_test, y_test, algorithm):\n",
    "    dtest = xgb.DMatrix(X_test)\n",
    "    y_proba = algorithm.predict(dtest, output_margin=True)\n",
    "    fpr, tpr, _ = metrics.roc_curve(y_test, y_proba)\n",
    "\n",
    "    plt.clf()\n",
    "    plt.plot(fpr, tpr)\n",
    "    plt.plot([0, 1], [0, 1], color='gray', linestyle='--')\n",
    "    plt.xlabel('FPR')\n",
    "    plt.ylabel('TPR')\n",
    "    plt.title('ROC curve')\n",
    "    plt.show()\n",
    "\n",
    "\n",
    "xgb_paint_roc_curve(X_test, y_test, xgb_model)"
   ]
  },
  {
   "cell_type": "markdown",
   "metadata": {},
   "source": [
    "#### 2.5.3. Saving model"
   ]
  },
  {
   "cell_type": "code",
   "execution_count": 57,
   "metadata": {},
   "outputs": [
    {
     "data": {
      "text/plain": [
       "['C:/Users/Usuario/Desktop/Proyects/Easy Money/EasyMoney_/models/xgb_model_pp.pkl']"
      ]
     },
     "execution_count": 57,
     "metadata": {},
     "output_type": "execute_result"
    }
   ],
   "source": [
    "joblib.dump(xgb_model_pp, 'C:/Users/Usuario/Desktop/Proyects/Easy Money/EasyMoney_/models/xgb_model_pp.pkl')"
   ]
  },
  {
   "cell_type": "markdown",
   "metadata": {},
   "source": [
    "### 2.6. EMC_ACOUNT"
   ]
  },
  {
   "cell_type": "code",
   "execution_count": 58,
   "metadata": {},
   "outputs": [],
   "source": [
    "X_train, X_test, y_train, y_test, X_val, y_val = validation_strategy_cl(em_propensity_emc, TARGET_EMC)"
   ]
  },
  {
   "cell_type": "markdown",
   "metadata": {},
   "source": [
    "#### 2.6.1. Resample"
   ]
  },
  {
   "cell_type": "code",
   "execution_count": 59,
   "metadata": {},
   "outputs": [],
   "source": [
    "undersampler = RandomUnderSampler(sampling_strategy=0.15, random_state=42)\n"
   ]
  },
  {
   "cell_type": "code",
   "execution_count": 60,
   "metadata": {},
   "outputs": [],
   "source": [
    "X_train_r, y_train_r = undersampler.fit_resample(X_train, y_train)\n"
   ]
  },
  {
   "cell_type": "markdown",
   "metadata": {},
   "source": [
    "#### 2.6.2. Training"
   ]
  },
  {
   "cell_type": "code",
   "execution_count": 61,
   "metadata": {},
   "outputs": [],
   "source": [
    "xgb_train = xgb.DMatrix(X_train_r, label=y_train_r)\n",
    "xgb_val = xgb.DMatrix(X_val, label=y_val)\n",
    "xgb_test = xgb.DMatrix(X_test, label=y_test)\n",
    "\n",
    "param = {}\n",
    "param['objective'] = 'binary:logistic'\n",
    "param['eta'] = 0.1\n",
    "param['max_depth'] = 10\n",
    "param['silent'] = 1\n",
    "param['nthread'] = 4\n",
    "param['eval_metric'] = 'auc'\n",
    "watchlist = [(xgb_train, 'train'), (xgb_val, 'val')]\n",
    "#num_boost_round = 400\n",
    "num_boost_round = 65"
   ]
  },
  {
   "cell_type": "code",
   "execution_count": 62,
   "metadata": {},
   "outputs": [
    {
     "name": "stdout",
     "output_type": "stream",
     "text": [
      "[0]\ttrain-auc:0.96233\tval-auc:0.95939\n",
      "[1]\ttrain-auc:0.96617\tval-auc:0.96316\n",
      "[2]\ttrain-auc:0.96692\tval-auc:0.96372\n",
      "[3]\ttrain-auc:0.96757\tval-auc:0.96426\n",
      "[4]\ttrain-auc:0.96887\tval-auc:0.96526\n",
      "[5]\ttrain-auc:0.96958\tval-auc:0.96582\n",
      "[6]\ttrain-auc:0.97006\tval-auc:0.96622\n",
      "[7]\ttrain-auc:0.97072\tval-auc:0.96676\n",
      "[8]\ttrain-auc:0.97121\tval-auc:0.96712\n",
      "[9]\ttrain-auc:0.97167\tval-auc:0.96742\n",
      "[10]\ttrain-auc:0.97206\tval-auc:0.96765\n",
      "[11]\ttrain-auc:0.97244\tval-auc:0.96790\n",
      "[12]\ttrain-auc:0.97272\tval-auc:0.96807\n",
      "[13]\ttrain-auc:0.97295\tval-auc:0.96817\n",
      "[14]\ttrain-auc:0.97330\tval-auc:0.96839\n",
      "[15]\ttrain-auc:0.97354\tval-auc:0.96858\n",
      "[16]\ttrain-auc:0.97379\tval-auc:0.96867\n",
      "[17]\ttrain-auc:0.97413\tval-auc:0.96883\n",
      "[18]\ttrain-auc:0.97440\tval-auc:0.96898\n",
      "[19]\ttrain-auc:0.97484\tval-auc:0.96922\n",
      "[20]\ttrain-auc:0.97514\tval-auc:0.96941\n",
      "[21]\ttrain-auc:0.97538\tval-auc:0.96951\n",
      "[22]\ttrain-auc:0.97554\tval-auc:0.96960\n",
      "[23]\ttrain-auc:0.97584\tval-auc:0.96974\n",
      "[24]\ttrain-auc:0.97601\tval-auc:0.96983\n",
      "[25]\ttrain-auc:0.97624\tval-auc:0.96992\n",
      "[26]\ttrain-auc:0.97654\tval-auc:0.97018\n",
      "[27]\ttrain-auc:0.97672\tval-auc:0.97030\n",
      "[28]\ttrain-auc:0.97681\tval-auc:0.97037\n",
      "[29]\ttrain-auc:0.97692\tval-auc:0.97041\n",
      "[30]\ttrain-auc:0.97704\tval-auc:0.97050\n",
      "[31]\ttrain-auc:0.97713\tval-auc:0.97057\n",
      "[32]\ttrain-auc:0.97722\tval-auc:0.97061\n",
      "[33]\ttrain-auc:0.97734\tval-auc:0.97072\n",
      "[34]\ttrain-auc:0.97745\tval-auc:0.97081\n",
      "[35]\ttrain-auc:0.97754\tval-auc:0.97086\n",
      "[36]\ttrain-auc:0.97762\tval-auc:0.97090\n",
      "[37]\ttrain-auc:0.97774\tval-auc:0.97096\n",
      "[38]\ttrain-auc:0.97786\tval-auc:0.97102\n",
      "[39]\ttrain-auc:0.97799\tval-auc:0.97107\n",
      "[40]\ttrain-auc:0.97803\tval-auc:0.97108\n",
      "[41]\ttrain-auc:0.97810\tval-auc:0.97114\n",
      "[42]\ttrain-auc:0.97822\tval-auc:0.97124\n",
      "[43]\ttrain-auc:0.97832\tval-auc:0.97128\n",
      "[44]\ttrain-auc:0.97841\tval-auc:0.97132\n",
      "[45]\ttrain-auc:0.97845\tval-auc:0.97134\n",
      "[46]\ttrain-auc:0.97850\tval-auc:0.97138\n",
      "[47]\ttrain-auc:0.97860\tval-auc:0.97142\n",
      "[48]\ttrain-auc:0.97872\tval-auc:0.97148\n",
      "[49]\ttrain-auc:0.97876\tval-auc:0.97151\n",
      "[50]\ttrain-auc:0.97887\tval-auc:0.97156\n",
      "[51]\ttrain-auc:0.97896\tval-auc:0.97162\n",
      "[52]\ttrain-auc:0.97902\tval-auc:0.97165\n",
      "[53]\ttrain-auc:0.97912\tval-auc:0.97171\n",
      "[54]\ttrain-auc:0.97920\tval-auc:0.97174\n",
      "[55]\ttrain-auc:0.97926\tval-auc:0.97177\n",
      "[56]\ttrain-auc:0.97938\tval-auc:0.97180\n",
      "[57]\ttrain-auc:0.97946\tval-auc:0.97183\n",
      "[58]\ttrain-auc:0.97954\tval-auc:0.97187\n",
      "[59]\ttrain-auc:0.97969\tval-auc:0.97196\n",
      "[60]\ttrain-auc:0.97979\tval-auc:0.97204\n",
      "[61]\ttrain-auc:0.97986\tval-auc:0.97207\n",
      "[62]\ttrain-auc:0.98002\tval-auc:0.97212\n",
      "[63]\ttrain-auc:0.98018\tval-auc:0.97217\n",
      "[64]\ttrain-auc:0.98028\tval-auc:0.97219\n"
     ]
    }
   ],
   "source": [
    "xgb_model_emc = xgb.train(params=param, dtrain=xgb_train, num_boost_round=num_boost_round, evals=watchlist)"
   ]
  },
  {
   "cell_type": "markdown",
   "metadata": {},
   "source": [
    "#### 2.6.3. Predictions"
   ]
  },
  {
   "cell_type": "code",
   "execution_count": 63,
   "metadata": {},
   "outputs": [
    {
     "name": "stdout",
     "output_type": "stream",
     "text": [
      "AUC del XGBoost en el Dataset de Validación: 0.9722\n",
      "AUC del XGBoost en el Dataset de Test: 0.9723\n"
     ]
    }
   ],
   "source": [
    "y_pred_xgb = xgb_model_emc.predict(xgb_test)\n",
    "y_pred_val_xgb = xgb_model_emc.predict(xgb_val)\n",
    "\n",
    "print('AUC del XGBoost en el Dataset de Validación: {:.4f}'.format(roc_auc_score(y_val, y_pred_val_xgb)))\n",
    "print('AUC del XGBoost en el Dataset de Test: {:.4f}'.format(roc_auc_score(y_test, y_pred_xgb)))"
   ]
  },
  {
   "cell_type": "code",
   "execution_count": 64,
   "metadata": {},
   "outputs": [
    {
     "name": "stdout",
     "output_type": "stream",
     "text": [
      "              precision    recall  f1-score   support\n",
      "\n",
      "           0       0.98      0.97      0.97     90267\n",
      "           1       0.63      0.72      0.67      6963\n",
      "\n",
      "    accuracy                           0.95     97230\n",
      "   macro avg       0.80      0.84      0.82     97230\n",
      "weighted avg       0.95      0.95      0.95     97230\n",
      "\n"
     ]
    }
   ],
   "source": [
    "y_pred_binary = [1 if p >= 0.5 else 0 for p in y_pred_xgb]\n",
    "y_val_binary = [1 if p >= 0.5 else 0 for p in y_pred_val_xgb]\n",
    "print(classification_report(y_test,y_pred_binary))"
   ]
  },
  {
   "cell_type": "code",
   "execution_count": 65,
   "metadata": {},
   "outputs": [
    {
     "data": {
      "text/html": [
       "<div>\n",
       "<style scoped>\n",
       "    .dataframe tbody tr th:only-of-type {\n",
       "        vertical-align: middle;\n",
       "    }\n",
       "\n",
       "    .dataframe tbody tr th {\n",
       "        vertical-align: top;\n",
       "    }\n",
       "\n",
       "    .dataframe thead th {\n",
       "        text-align: right;\n",
       "    }\n",
       "</style>\n",
       "<table border=\"1\" class=\"dataframe\">\n",
       "  <thead>\n",
       "    <tr style=\"text-align: right;\">\n",
       "      <th>col_0</th>\n",
       "      <th>0</th>\n",
       "      <th>1</th>\n",
       "    </tr>\n",
       "    <tr>\n",
       "      <th>emc_account</th>\n",
       "      <th></th>\n",
       "      <th></th>\n",
       "    </tr>\n",
       "  </thead>\n",
       "  <tbody>\n",
       "    <tr>\n",
       "      <th>0</th>\n",
       "      <td>87313</td>\n",
       "      <td>2954</td>\n",
       "    </tr>\n",
       "    <tr>\n",
       "      <th>1</th>\n",
       "      <td>1964</td>\n",
       "      <td>4999</td>\n",
       "    </tr>\n",
       "  </tbody>\n",
       "</table>\n",
       "</div>"
      ],
      "text/plain": [
       "col_0            0     1\n",
       "emc_account             \n",
       "0            87313  2954\n",
       "1             1964  4999"
      ]
     },
     "execution_count": 65,
     "metadata": {},
     "output_type": "execute_result"
    }
   ],
   "source": [
    "pd.crosstab(y_test, y_pred_binary)"
   ]
  },
  {
   "cell_type": "code",
   "execution_count": 66,
   "metadata": {},
   "outputs": [
    {
     "data": {
      "image/png": "[encoded data removed]",
      "text/plain": [
       "<Figure size 640x480 with 1 Axes>"
      ]
     },
     "metadata": {},
     "output_type": "display_data"
    }
   ],
   "source": [
    "def xgb_paint_roc_curve(X_test, y_test, algorithm):\n",
    "    dtest = xgb.DMatrix(X_test)\n",
    "    y_proba = algorithm.predict(dtest, output_margin=True)\n",
    "    fpr, tpr, _ = metrics.roc_curve(y_test, y_proba)\n",
    "\n",
    "    plt.clf()\n",
    "    plt.plot(fpr, tpr)\n",
    "    plt.plot([0, 1], [0, 1], color='gray', linestyle='--')\n",
    "    plt.xlabel('FPR')\n",
    "    plt.ylabel('TPR')\n",
    "    plt.title('ROC curve')\n",
    "    plt.show()\n",
    "\n",
    "\n",
    "xgb_paint_roc_curve(X_test, y_test, xgb_model)"
   ]
  },
  {
   "cell_type": "markdown",
   "metadata": {},
   "source": [
    "#### 2.6.3. Saving model"
   ]
  },
  {
   "cell_type": "code",
   "execution_count": 67,
   "metadata": {},
   "outputs": [
    {
     "data": {
      "text/plain": [
       "['C:/Users/Usuario/Desktop/Proyects/Easy Money/EasyMoney_/models/xgb_model_emc.pkl']"
      ]
     },
     "execution_count": 67,
     "metadata": {},
     "output_type": "execute_result"
    }
   ],
   "source": [
    "joblib.dump(xgb_model_emc, 'C:/Users/Usuario/Desktop/Proyects/Easy Money/EasyMoney_/models/xgb_model_emc.pkl')"
   ]
  },
  {
   "cell_type": "markdown",
   "metadata": {},
   "source": [
    "## 3. Purchase propensity"
   ]
  },
  {
   "cell_type": "markdown",
   "metadata": {},
   "source": [
    "### 3.1. Propensity data"
   ]
  },
  {
   "cell_type": "code",
   "execution_count": 68,
   "metadata": {},
   "outputs": [],
   "source": [
    "# Loading models\n",
    "xgb_model_dc = joblib.load('C:/Users/Usuario/Desktop/Proyects/Easy Money/EasyMoney_/models/xgb_model_dc.pkl')\n",
    "xgb_model_pp = joblib.load('C:/Users/Usuario/Desktop/Proyects/Easy Money/EasyMoney_/models/xgb_model_pp.pkl')\n",
    "xgb_model_emc = joblib.load('C:/Users/Usuario/Desktop/Proyects/Easy Money/EasyMoney_/models/xgb_model_emc.pkl')"
   ]
  },
  {
   "cell_type": "code",
   "execution_count": 69,
   "metadata": {},
   "outputs": [],
   "source": [
    "dc_prop_cust = em_propensity_dc[em_propensity_dc[TARGET_DC]==0]\n",
    "emc_prop_cust = em_propensity_emc[em_propensity_emc[TARGET_EMC]==0]\n",
    "pp_prop_cust = em_propensity_pp[em_propensity_pp[TARGET_PP]==0]"
   ]
  },
  {
   "cell_type": "markdown",
   "metadata": {},
   "source": [
    "### 3.2. Debit card"
   ]
  },
  {
   "cell_type": "code",
   "execution_count": 70,
   "metadata": {},
   "outputs": [
    {
     "data": {
      "text/plain": [
       "\"\\n\\ncid = dc_prop_cust.drop(TARGET_DC, axis = 1).reset_index()[['pk_cid']]\\nX = dc_prop_cust.drop(TARGET_DC, axis = 1).reset_index().drop('pk_cid', axis = 1)\\n\\nX_dmatrix = xgb.DMatrix(X)\\ndc_predictions = xgb_model_dc.predict(X_dmatrix)\\n\\ndc_prediction = {'Prediction': dc_predictions}\\ndf_predictions = pd.DataFrame(dc_prediction)\\n\\ndc_final_df = cid.merge(df_predictions, left_index=True, right_index=True).groupby('pk_cid')['Prediction'].agg(\\n    Propensity = 'mean')\\n\\ndc_final_df[dc_final_df['Propensity']> 0.8]\\n\\n\""
      ]
     },
     "execution_count": 70,
     "metadata": {},
     "output_type": "execute_result"
    }
   ],
   "source": [
    "'''\n",
    "\n",
    "cid = dc_prop_cust.drop(TARGET_DC, axis = 1).reset_index()[['pk_cid']]\n",
    "X = dc_prop_cust.drop(TARGET_DC, axis = 1).reset_index().drop('pk_cid', axis = 1)\n",
    "\n",
    "X_dmatrix = xgb.DMatrix(X)\n",
    "dc_predictions = xgb_model_dc.predict(X_dmatrix)\n",
    "\n",
    "dc_prediction = {'Prediction': dc_predictions}\n",
    "df_predictions = pd.DataFrame(dc_prediction)\n",
    "\n",
    "dc_final_df = cid.merge(df_predictions, left_index=True, right_index=True).groupby('pk_cid')['Prediction'].agg(\n",
    "    Propensity = 'mean')\n",
    "\n",
    "dc_final_df[dc_final_df['Propensity']> 0.8]\n",
    "\n",
    "'''"
   ]
  },
  {
   "cell_type": "code",
   "execution_count": 71,
   "metadata": {},
   "outputs": [],
   "source": [
    "def propensity_prediction(new_df, target, model, precision_rate):\n",
    "    cid = new_df.drop(target, axis = 1).reset_index()[['pk_cid']]\n",
    "    X = new_df.drop(target, axis = 1).reset_index().drop('pk_cid', axis = 1)\n",
    "\n",
    "    X_dmatrix = xgb.DMatrix(X)\n",
    "    predictions = model.predict(X_dmatrix)\n",
    "\n",
    "    prediction = {'Prediction': predictions}\n",
    "    predictions = pd.DataFrame(prediction)\n",
    "\n",
    "    final_df = cid.merge(predictions, left_index=True, right_index=True).groupby('pk_cid')['Prediction'].agg(\n",
    "    Propensity = 'mean')\n",
    "    final_df = final_df[final_df['Propensity']> precision_rate]\n",
    "    return final_df"
   ]
  },
  {
   "cell_type": "code",
   "execution_count": 72,
   "metadata": {},
   "outputs": [
    {
     "data": {
      "text/html": [
       "<div>\n",
       "<style scoped>\n",
       "    .dataframe tbody tr th:only-of-type {\n",
       "        vertical-align: middle;\n",
       "    }\n",
       "\n",
       "    .dataframe tbody tr th {\n",
       "        vertical-align: top;\n",
       "    }\n",
       "\n",
       "    .dataframe thead th {\n",
       "        text-align: right;\n",
       "    }\n",
       "</style>\n",
       "<table border=\"1\" class=\"dataframe\">\n",
       "  <thead>\n",
       "    <tr style=\"text-align: right;\">\n",
       "      <th></th>\n",
       "      <th>Propensity</th>\n",
       "    </tr>\n",
       "    <tr>\n",
       "      <th>pk_cid</th>\n",
       "      <th></th>\n",
       "    </tr>\n",
       "  </thead>\n",
       "  <tbody>\n",
       "    <tr>\n",
       "      <th>31624</th>\n",
       "      <td>0.838497</td>\n",
       "    </tr>\n",
       "    <tr>\n",
       "      <th>45850</th>\n",
       "      <td>0.850944</td>\n",
       "    </tr>\n",
       "    <tr>\n",
       "      <th>79129</th>\n",
       "      <td>0.887530</td>\n",
       "    </tr>\n",
       "    <tr>\n",
       "      <th>94134</th>\n",
       "      <td>0.952826</td>\n",
       "    </tr>\n",
       "    <tr>\n",
       "      <th>115885</th>\n",
       "      <td>0.859659</td>\n",
       "    </tr>\n",
       "    <tr>\n",
       "      <th>...</th>\n",
       "      <td>...</td>\n",
       "    </tr>\n",
       "    <tr>\n",
       "      <th>1536734</th>\n",
       "      <td>0.861269</td>\n",
       "    </tr>\n",
       "    <tr>\n",
       "      <th>1538480</th>\n",
       "      <td>0.890766</td>\n",
       "    </tr>\n",
       "    <tr>\n",
       "      <th>1542779</th>\n",
       "      <td>0.820246</td>\n",
       "    </tr>\n",
       "    <tr>\n",
       "      <th>1542853</th>\n",
       "      <td>0.862771</td>\n",
       "    </tr>\n",
       "    <tr>\n",
       "      <th>1543366</th>\n",
       "      <td>0.809933</td>\n",
       "    </tr>\n",
       "  </tbody>\n",
       "</table>\n",
       "<p>1098 rows × 1 columns</p>\n",
       "</div>"
      ],
      "text/plain": [
       "         Propensity\n",
       "pk_cid             \n",
       "31624      0.838497\n",
       "45850      0.850944\n",
       "79129      0.887530\n",
       "94134      0.952826\n",
       "115885     0.859659\n",
       "...             ...\n",
       "1536734    0.861269\n",
       "1538480    0.890766\n",
       "1542779    0.820246\n",
       "1542853    0.862771\n",
       "1543366    0.809933\n",
       "\n",
       "[1098 rows x 1 columns]"
      ]
     },
     "execution_count": 72,
     "metadata": {},
     "output_type": "execute_result"
    }
   ],
   "source": [
    "dc_prop_pred = propensity_prediction(dc_prop_cust, TARGET_DC, xgb_model_dc, 0.8)\n",
    "dc_prop_pred"
   ]
  },
  {
   "cell_type": "markdown",
   "metadata": {},
   "source": [
    "### 3.3. Pension Plan"
   ]
  },
  {
   "cell_type": "code",
   "execution_count": 73,
   "metadata": {},
   "outputs": [
    {
     "data": {
      "text/html": [
       "<div>\n",
       "<style scoped>\n",
       "    .dataframe tbody tr th:only-of-type {\n",
       "        vertical-align: middle;\n",
       "    }\n",
       "\n",
       "    .dataframe tbody tr th {\n",
       "        vertical-align: top;\n",
       "    }\n",
       "\n",
       "    .dataframe thead th {\n",
       "        text-align: right;\n",
       "    }\n",
       "</style>\n",
       "<table border=\"1\" class=\"dataframe\">\n",
       "  <thead>\n",
       "    <tr style=\"text-align: right;\">\n",
       "      <th></th>\n",
       "      <th>Propensity</th>\n",
       "    </tr>\n",
       "    <tr>\n",
       "      <th>pk_cid</th>\n",
       "      <th></th>\n",
       "    </tr>\n",
       "  </thead>\n",
       "  <tbody>\n",
       "    <tr>\n",
       "      <th>26163</th>\n",
       "      <td>0.916642</td>\n",
       "    </tr>\n",
       "    <tr>\n",
       "      <th>98588</th>\n",
       "      <td>0.852892</td>\n",
       "    </tr>\n",
       "    <tr>\n",
       "      <th>192005</th>\n",
       "      <td>0.913880</td>\n",
       "    </tr>\n",
       "    <tr>\n",
       "      <th>241192</th>\n",
       "      <td>0.815170</td>\n",
       "    </tr>\n",
       "    <tr>\n",
       "      <th>327291</th>\n",
       "      <td>0.846250</td>\n",
       "    </tr>\n",
       "    <tr>\n",
       "      <th>...</th>\n",
       "      <td>...</td>\n",
       "    </tr>\n",
       "    <tr>\n",
       "      <th>1513829</th>\n",
       "      <td>0.876972</td>\n",
       "    </tr>\n",
       "    <tr>\n",
       "      <th>1521989</th>\n",
       "      <td>0.920845</td>\n",
       "    </tr>\n",
       "    <tr>\n",
       "      <th>1528839</th>\n",
       "      <td>0.801826</td>\n",
       "    </tr>\n",
       "    <tr>\n",
       "      <th>1536575</th>\n",
       "      <td>0.987168</td>\n",
       "    </tr>\n",
       "    <tr>\n",
       "      <th>1543237</th>\n",
       "      <td>0.868053</td>\n",
       "    </tr>\n",
       "  </tbody>\n",
       "</table>\n",
       "<p>536 rows × 1 columns</p>\n",
       "</div>"
      ],
      "text/plain": [
       "         Propensity\n",
       "pk_cid             \n",
       "26163      0.916642\n",
       "98588      0.852892\n",
       "192005     0.913880\n",
       "241192     0.815170\n",
       "327291     0.846250\n",
       "...             ...\n",
       "1513829    0.876972\n",
       "1521989    0.920845\n",
       "1528839    0.801826\n",
       "1536575    0.987168\n",
       "1543237    0.868053\n",
       "\n",
       "[536 rows x 1 columns]"
      ]
     },
     "execution_count": 73,
     "metadata": {},
     "output_type": "execute_result"
    }
   ],
   "source": [
    "pp_prop_pred = propensity_prediction(pp_prop_cust, TARGET_PP, xgb_model_pp, 0.8)\n",
    "pp_prop_pred"
   ]
  },
  {
   "cell_type": "markdown",
   "metadata": {},
   "source": [
    "### 3.4. Emc Account"
   ]
  },
  {
   "cell_type": "code",
   "execution_count": 74,
   "metadata": {},
   "outputs": [
    {
     "data": {
      "text/html": [
       "<div>\n",
       "<style scoped>\n",
       "    .dataframe tbody tr th:only-of-type {\n",
       "        vertical-align: middle;\n",
       "    }\n",
       "\n",
       "    .dataframe tbody tr th {\n",
       "        vertical-align: top;\n",
       "    }\n",
       "\n",
       "    .dataframe thead th {\n",
       "        text-align: right;\n",
       "    }\n",
       "</style>\n",
       "<table border=\"1\" class=\"dataframe\">\n",
       "  <thead>\n",
       "    <tr style=\"text-align: right;\">\n",
       "      <th></th>\n",
       "      <th>Propensity</th>\n",
       "    </tr>\n",
       "    <tr>\n",
       "      <th>pk_cid</th>\n",
       "      <th></th>\n",
       "    </tr>\n",
       "  </thead>\n",
       "  <tbody>\n",
       "    <tr>\n",
       "      <th>26018</th>\n",
       "      <td>0.808536</td>\n",
       "    </tr>\n",
       "    <tr>\n",
       "      <th>63111</th>\n",
       "      <td>0.830486</td>\n",
       "    </tr>\n",
       "    <tr>\n",
       "      <th>69575</th>\n",
       "      <td>0.889222</td>\n",
       "    </tr>\n",
       "    <tr>\n",
       "      <th>166328</th>\n",
       "      <td>0.828829</td>\n",
       "    </tr>\n",
       "    <tr>\n",
       "      <th>174303</th>\n",
       "      <td>0.915197</td>\n",
       "    </tr>\n",
       "    <tr>\n",
       "      <th>...</th>\n",
       "      <td>...</td>\n",
       "    </tr>\n",
       "    <tr>\n",
       "      <th>1376921</th>\n",
       "      <td>0.857741</td>\n",
       "    </tr>\n",
       "    <tr>\n",
       "      <th>1404663</th>\n",
       "      <td>0.838310</td>\n",
       "    </tr>\n",
       "    <tr>\n",
       "      <th>1416236</th>\n",
       "      <td>0.862796</td>\n",
       "    </tr>\n",
       "    <tr>\n",
       "      <th>1489362</th>\n",
       "      <td>0.822926</td>\n",
       "    </tr>\n",
       "    <tr>\n",
       "      <th>1544353</th>\n",
       "      <td>0.822287</td>\n",
       "    </tr>\n",
       "  </tbody>\n",
       "</table>\n",
       "<p>733 rows × 1 columns</p>\n",
       "</div>"
      ],
      "text/plain": [
       "         Propensity\n",
       "pk_cid             \n",
       "26018      0.808536\n",
       "63111      0.830486\n",
       "69575      0.889222\n",
       "166328     0.828829\n",
       "174303     0.915197\n",
       "...             ...\n",
       "1376921    0.857741\n",
       "1404663    0.838310\n",
       "1416236    0.862796\n",
       "1489362    0.822926\n",
       "1544353    0.822287\n",
       "\n",
       "[733 rows x 1 columns]"
      ]
     },
     "execution_count": 74,
     "metadata": {},
     "output_type": "execute_result"
    }
   ],
   "source": [
    "emc_prop_pred = propensity_prediction(emc_prop_cust, TARGET_EMC, xgb_model_emc, 0.8)\n",
    "emc_prop_pred"
   ]
  },
  {
   "cell_type": "markdown",
   "metadata": {},
   "source": [
    "### 3.5. Profit"
   ]
  },
  {
   "cell_type": "code",
   "execution_count": 75,
   "metadata": {},
   "outputs": [],
   "source": [
    "PATH = r'C:\\Users\\Usuario\\Desktop\\Proyects\\Easy Money\\data_compressed'\n",
    "file_name =  r\"\\sales.csv\"\n",
    "file_name3 = r\"\\product_description.csv\"\n",
    "sales = pd.read_csv(PATH + file_name, sep = \",\", index_col=0)\n",
    "prd = pd.read_csv(PATH + file_name3, sep = \",\", index_col=0)\n",
    "#prd"
   ]
  },
  {
   "cell_type": "code",
   "execution_count": 76,
   "metadata": {},
   "outputs": [],
   "source": [
    "dc_net_margin = sales[sales['product_ID']==3819]['net_margin'].mean()\n",
    "emc_net_margin = sales[sales['product_ID']==8871]['net_margin'].mean()\n",
    "pp_net_margin = sales[sales['product_ID']==1364]['net_margin'].mean()"
   ]
  },
  {
   "cell_type": "code",
   "execution_count": 77,
   "metadata": {},
   "outputs": [
    {
     "name": "stdout",
     "output_type": "stream",
     "text": [
      "Debit card: 65883.53 €\n",
      "Pension Plan: 3203369.65 €\n",
      "Emc Account: 51319.48 €\n"
     ]
    }
   ],
   "source": [
    "#debit card profit prediction\n",
    "print('Debit card:',round(len(dc_prop_pred)*dc_net_margin, 2), '€')\n",
    "#pension plan profit prediction\n",
    "print('Pension Plan:',round(len(pp_prop_pred)*pp_net_margin, 2), '€')\n",
    "#emc account profit prediction\n",
    "print('Emc Account:',round(len(emc_prop_pred)*emc_net_margin, 2), '€')"
   ]
  },
  {
   "cell_type": "code",
   "execution_count": 94,
   "metadata": {},
   "outputs": [],
   "source": [
    "data = {\n",
    "    'Product': ['Debit card', 'Emc acount', 'Pension plan'],\n",
    "    'Average profit': [round(dc_net_margin, 2), round(emc_net_margin, 2), round(pp_net_margin, 2)],\n",
    "        'N future customers': [round(len(dc_prop_pred), 2), round(len(emc_prop_pred), 2), round(len(pp_prop_pred), 2)]\n",
    "}\n",
    "profit_pred = pd.DataFrame(data)"
   ]
  },
  {
   "cell_type": "code",
   "execution_count": 95,
   "metadata": {},
   "outputs": [],
   "source": [
    "profit_pred['Total profit - Long Term'] = profit_pred['Average profit']*profit_pred['N future customers']"
   ]
  },
  {
   "cell_type": "code",
   "execution_count": 96,
   "metadata": {},
   "outputs": [
    {
     "data": {
      "text/html": [
       "<div>\n",
       "<style scoped>\n",
       "    .dataframe tbody tr th:only-of-type {\n",
       "        vertical-align: middle;\n",
       "    }\n",
       "\n",
       "    .dataframe tbody tr th {\n",
       "        vertical-align: top;\n",
       "    }\n",
       "\n",
       "    .dataframe thead th {\n",
       "        text-align: right;\n",
       "    }\n",
       "</style>\n",
       "<table border=\"1\" class=\"dataframe\">\n",
       "  <thead>\n",
       "    <tr style=\"text-align: right;\">\n",
       "      <th></th>\n",
       "      <th>Product</th>\n",
       "      <th>Average profit</th>\n",
       "      <th>N future customers</th>\n",
       "      <th>Total profit - Long Term</th>\n",
       "    </tr>\n",
       "  </thead>\n",
       "  <tbody>\n",
       "    <tr>\n",
       "      <th>0</th>\n",
       "      <td>Debit card</td>\n",
       "      <td>60.00</td>\n",
       "      <td>1098</td>\n",
       "      <td>65880.00</td>\n",
       "    </tr>\n",
       "    <tr>\n",
       "      <th>1</th>\n",
       "      <td>Emc acount</td>\n",
       "      <td>70.01</td>\n",
       "      <td>733</td>\n",
       "      <td>51317.33</td>\n",
       "    </tr>\n",
       "    <tr>\n",
       "      <th>2</th>\n",
       "      <td>Pension plan</td>\n",
       "      <td>5976.44</td>\n",
       "      <td>536</td>\n",
       "      <td>3203371.84</td>\n",
       "    </tr>\n",
       "  </tbody>\n",
       "</table>\n",
       "</div>"
      ],
      "text/plain": [
       "        Product  Average profit  N future customers  Total profit - Long Term\n",
       "0    Debit card           60.00                1098                  65880.00\n",
       "1    Emc acount           70.01                 733                  51317.33\n",
       "2  Pension plan         5976.44                 536                3203371.84"
      ]
     },
     "execution_count": 96,
     "metadata": {},
     "output_type": "execute_result"
    }
   ],
   "source": [
    "profit_pred"
   ]
  },
  {
   "cell_type": "markdown",
   "metadata": {},
   "source": [
    "### 3.6. CSVs"
   ]
  },
  {
   "cell_type": "code",
   "execution_count": 98,
   "metadata": {},
   "outputs": [],
   "source": [
    "dc_prop_pred.to_csv('C:/Users/Usuario/Desktop/Proyects/Easy Money/EasyMoney_/CSVs/dc_prop_pred.csv')\n",
    "pp_prop_pred.to_csv('C:/Users/Usuario/Desktop/Proyects/Easy Money/EasyMoney_/CSVs/pp_prop_pred.csv')\n",
    "emc_prop_pred.to_csv('C:/Users/Usuario/Desktop/Proyects/Easy Money/EasyMoney_/CSVs/emc_prop_pred.csv')\n",
    "profit_pred.to_csv('C:/Users/Usuario/Desktop/Proyects/Easy Money/EasyMoney_/CSVs/profit_pred.csv')"
   ]
  },
  {
   "cell_type": "code",
   "execution_count": null,
   "metadata": {},
   "outputs": [],
   "source": []
  }
 ],
 "metadata": {
  "kernelspec": {
   "display_name": "base",
   "language": "python",
   "name": "python3"
  },
  "language_info": {
   "codemirror_mode": {
    "name": "ipython",
    "version": 3
   },
   "file_extension": ".py",
   "mimetype": "text/x-python",
   "name": "python",
   "nbconvert_exporter": "python",
   "pygments_lexer": "ipython3",
   "version": "3.10.14"
  }
 },
 "nbformat": 4,
 "nbformat_minor": 2
}
